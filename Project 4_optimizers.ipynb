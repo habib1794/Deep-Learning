{
 "cells": [
  {
   "cell_type": "code",
   "execution_count": 1,
   "metadata": {},
   "outputs": [
    {
     "name": "stderr",
     "output_type": "stream",
     "text": [
      "Using TensorFlow backend.\n"
     ]
    }
   ],
   "source": [
    "import numpy as np\n",
    "import pandas as pd\n",
    "from keras.preprocessing.image import ImageDataGenerator\n",
    "import matplotlib.pyplot as plt\n",
    "import random\n",
    "import os"
   ]
  },
  {
   "cell_type": "code",
   "execution_count": 2,
   "metadata": {},
   "outputs": [
    {
     "name": "stdout",
     "output_type": "stream",
     "text": [
      "Found 1080 images belonging to 4 classes.\n",
      "Found 360 images belonging to 4 classes.\n"
     ]
    }
   ],
   "source": [
    "train_datagen = ImageDataGenerator(rescale=1./255)\n",
    "train_generator = train_datagen.flow_from_directory('Project1/training',target_size=(128,128),\n",
    "                                                 class_mode='categorical',\n",
    "                                                 batch_size=20)\n",
    "validation_datagen = ImageDataGenerator(rescale=1./255)\n",
    "validation_generator = validation_datagen.flow_from_directory('Project1/validation',target_size=(128,128),\n",
    "                                                 class_mode='categorical',batch_size=5)"
   ]
  },
  {
   "cell_type": "code",
   "execution_count": 3,
   "metadata": {},
   "outputs": [
    {
     "name": "stdout",
     "output_type": "stream",
     "text": [
      "WARNING:tensorflow:From C:\\Users\\habib\\AppData\\Local\\Continuum\\anaconda3\\lib\\site-packages\\tensorflow_core\\python\\ops\\resource_variable_ops.py:1630: calling BaseResourceVariable.__init__ (from tensorflow.python.ops.resource_variable_ops) with constraint is deprecated and will be removed in a future version.\n",
      "Instructions for updating:\n",
      "If using Keras pass *_constraint arguments to layers.\n",
      "WARNING:tensorflow:From C:\\Users\\habib\\AppData\\Local\\Continuum\\anaconda3\\lib\\site-packages\\keras\\backend\\tensorflow_backend.py:4070: The name tf.nn.max_pool is deprecated. Please use tf.nn.max_pool2d instead.\n",
      "\n"
     ]
    }
   ],
   "source": [
    "from keras.models import Sequential\n",
    "from keras.layers import Conv2D,MaxPooling2D,\\\n",
    "     Dropout,Flatten,Dense,Activation\n",
    "model=Sequential()\n",
    "model.add(Conv2D(32,(3,3),activation='relu',input_shape=(128,128,3)))\n",
    "model.add(MaxPooling2D(pool_size=(2,2)))\n",
    "model.add(Conv2D(32,(3,3),activation='relu'))\n",
    "model.add(MaxPooling2D(pool_size=(2,2)))\n",
    "model.add(Dropout(0.1))\n",
    "model.add(Flatten())\n",
    "model.add(Dense(64,activation='relu'))\n",
    "model.add(Dropout(0.1))\n",
    "model.add(Dense(4,activation='softmax'))\n",
    "model.compile(loss='categorical_crossentropy',\n",
    "  optimizer='adam',metrics=['accuracy'])"
   ]
  },
  {
   "cell_type": "code",
   "execution_count": 4,
   "metadata": {},
   "outputs": [
    {
     "name": "stdout",
     "output_type": "stream",
     "text": [
      "Model: \"sequential_1\"\n",
      "_________________________________________________________________\n",
      "Layer (type)                 Output Shape              Param #   \n",
      "=================================================================\n",
      "conv2d_1 (Conv2D)            (None, 126, 126, 32)      896       \n",
      "_________________________________________________________________\n",
      "max_pooling2d_1 (MaxPooling2 (None, 63, 63, 32)        0         \n",
      "_________________________________________________________________\n",
      "conv2d_2 (Conv2D)            (None, 61, 61, 32)        9248      \n",
      "_________________________________________________________________\n",
      "max_pooling2d_2 (MaxPooling2 (None, 30, 30, 32)        0         \n",
      "_________________________________________________________________\n",
      "dropout_1 (Dropout)          (None, 30, 30, 32)        0         \n",
      "_________________________________________________________________\n",
      "flatten_1 (Flatten)          (None, 28800)             0         \n",
      "_________________________________________________________________\n",
      "dense_1 (Dense)              (None, 64)                1843264   \n",
      "_________________________________________________________________\n",
      "dropout_2 (Dropout)          (None, 64)                0         \n",
      "_________________________________________________________________\n",
      "dense_2 (Dense)              (None, 4)                 260       \n",
      "=================================================================\n",
      "Total params: 1,853,668\n",
      "Trainable params: 1,853,668\n",
      "Non-trainable params: 0\n",
      "_________________________________________________________________\n"
     ]
    }
   ],
   "source": [
    "model.summary()"
   ]
  },
  {
   "cell_type": "code",
   "execution_count": 5,
   "metadata": {},
   "outputs": [],
   "source": [
    "from keras.callbacks import EarlyStopping,ReduceLROnPlateau\n",
    "earlystop=EarlyStopping(patience=10)\n",
    "learning_rate_reduction=ReduceLROnPlateau(monitor='val_acc',patience=2,verbose=1,factor=0.5,min_lr=0.00001)\n",
    "callbacks=[earlystop,learning_rate_reduction]"
   ]
  },
  {
   "cell_type": "code",
   "execution_count": 6,
   "metadata": {},
   "outputs": [
    {
     "name": "stdout",
     "output_type": "stream",
     "text": [
      "WARNING:tensorflow:From C:\\Users\\habib\\AppData\\Local\\Continuum\\anaconda3\\lib\\site-packages\\keras\\backend\\tensorflow_backend.py:422: The name tf.global_variables is deprecated. Please use tf.compat.v1.global_variables instead.\n",
      "\n",
      "Epoch 1/20\n",
      "72/72 [==============================] - 23s 322ms/step - loss: 0.6144 - accuracy: 0.8174 - val_loss: 0.4387 - val_accuracy: 0.8667\n",
      "Epoch 2/20\n"
     ]
    },
    {
     "name": "stderr",
     "output_type": "stream",
     "text": [
      "C:\\Users\\habib\\AppData\\Local\\Continuum\\anaconda3\\lib\\site-packages\\keras\\callbacks\\callbacks.py:1042: RuntimeWarning: Reduce LR on plateau conditioned on metric `val_acc` which is not available. Available metrics are: val_loss,val_accuracy,loss,accuracy,lr\n",
      "  (self.monitor, ','.join(list(logs.keys()))), RuntimeWarning\n"
     ]
    },
    {
     "name": "stdout",
     "output_type": "stream",
     "text": [
      "72/72 [==============================] - 22s 310ms/step - loss: 0.4326 - accuracy: 0.8479 - val_loss: 0.1928 - val_accuracy: 0.8667\n",
      "Epoch 3/20\n",
      "72/72 [==============================] - 21s 297ms/step - loss: 0.3476 - accuracy: 0.8708 - val_loss: 0.1011 - val_accuracy: 0.8500\n",
      "Epoch 4/20\n",
      "72/72 [==============================] - 22s 306ms/step - loss: 0.2827 - accuracy: 0.8875 - val_loss: 0.1056 - val_accuracy: 0.9000\n",
      "Epoch 5/20\n",
      "72/72 [==============================] - 22s 303ms/step - loss: 0.2277 - accuracy: 0.9250 - val_loss: 0.1171 - val_accuracy: 0.8333\n",
      "Epoch 6/20\n",
      "72/72 [==============================] - 22s 302ms/step - loss: 0.2261 - accuracy: 0.9243 - val_loss: 1.3316 - val_accuracy: 0.8333\n",
      "Epoch 7/20\n",
      "72/72 [==============================] - 22s 307ms/step - loss: 0.1894 - accuracy: 0.9382 - val_loss: 0.2113 - val_accuracy: 0.8667\n",
      "Epoch 8/20\n",
      "72/72 [==============================] - 22s 303ms/step - loss: 0.1916 - accuracy: 0.9438 - val_loss: 0.0088 - val_accuracy: 0.9500\n",
      "Epoch 9/20\n",
      "72/72 [==============================] - 22s 302ms/step - loss: 0.1290 - accuracy: 0.9576 - val_loss: 0.2406 - val_accuracy: 0.9000\n",
      "Epoch 10/20\n",
      "72/72 [==============================] - 23s 316ms/step - loss: 0.0995 - accuracy: 0.9660 - val_loss: 0.1079 - val_accuracy: 0.8500\n",
      "Epoch 11/20\n",
      "72/72 [==============================] - 24s 331ms/step - loss: 0.0847 - accuracy: 0.9722 - val_loss: 0.0288 - val_accuracy: 0.8833\n",
      "Epoch 12/20\n",
      "72/72 [==============================] - 25s 341ms/step - loss: 0.0651 - accuracy: 0.9799 - val_loss: 1.2965 - val_accuracy: 0.8833\n",
      "Epoch 13/20\n",
      "72/72 [==============================] - 25s 347ms/step - loss: 0.0516 - accuracy: 0.9819 - val_loss: 2.5184 - val_accuracy: 0.8667\n",
      "Epoch 14/20\n",
      "72/72 [==============================] - 23s 316ms/step - loss: 0.0504 - accuracy: 0.9819 - val_loss: 0.0045 - val_accuracy: 0.8500\n",
      "Epoch 15/20\n",
      "72/72 [==============================] - 22s 305ms/step - loss: 0.0509 - accuracy: 0.9868 - val_loss: 1.7074 - val_accuracy: 0.8833\n",
      "Epoch 16/20\n",
      "72/72 [==============================] - 26s 365ms/step - loss: 0.0699 - accuracy: 0.9757 - val_loss: 1.3074 - val_accuracy: 0.8833\n",
      "Epoch 17/20\n",
      "72/72 [==============================] - 30s 419ms/step - loss: 0.0655 - accuracy: 0.9785 - val_loss: 2.8491 - val_accuracy: 0.9000\n",
      "Epoch 18/20\n",
      "72/72 [==============================] - 28s 390ms/step - loss: 0.0397 - accuracy: 0.9861 - val_loss: 0.0107 - val_accuracy: 0.9667\n",
      "Epoch 19/20\n",
      "72/72 [==============================] - 23s 313ms/step - loss: 0.0361 - accuracy: 0.9903 - val_loss: 0.0028 - val_accuracy: 0.8000\n",
      "Epoch 20/20\n",
      "72/72 [==============================] - 27s 378ms/step - loss: 0.0638 - accuracy: 0.9806 - val_loss: 0.1181 - val_accuracy: 0.9000\n"
     ]
    },
    {
     "data": {
      "text/plain": [
       "<keras.callbacks.callbacks.History at 0x1f21b4f4708>"
      ]
     },
     "execution_count": 6,
     "metadata": {},
     "output_type": "execute_result"
    }
   ],
   "source": [
    "model.fit_generator(train_generator,steps_per_epoch=72,epochs=20,validation_data=validation_generator,validation_steps=12,callbacks=callbacks)"
   ]
  },
  {
   "cell_type": "code",
   "execution_count": 8,
   "metadata": {},
   "outputs": [],
   "source": [
    "from keras.models import Sequential\n",
    "from keras.layers import Conv2D,MaxPooling2D,\\\n",
    "     Dropout,Flatten,Dense,Activation\n",
    "model=Sequential()\n",
    "model.add(Conv2D(32,(3,3),activation='relu',input_shape=(128,128,3)))\n",
    "model.add(MaxPooling2D(pool_size=(2,2)))\n",
    "model.add(Conv2D(32,(3,3),activation='relu'))\n",
    "model.add(MaxPooling2D(pool_size=(2,2)))\n",
    "model.add(Dropout(0.1))\n",
    "model.add(Flatten())\n",
    "model.add(Dense(64,activation='relu'))\n",
    "model.add(Dropout(0.1))\n",
    "model.add(Dense(4,activation='softmax'))\n",
    "model.compile(loss='categorical_crossentropy',\n",
    "  optimizer='rmsprop',metrics=['accuracy'])"
   ]
  },
  {
   "cell_type": "code",
   "execution_count": 9,
   "metadata": {},
   "outputs": [
    {
     "name": "stdout",
     "output_type": "stream",
     "text": [
      "Epoch 1/20\n",
      "72/72 [==============================] - 21s 296ms/step - loss: 0.7513 - accuracy: 0.8035 - val_loss: 0.6261 - val_accuracy: 0.7500\n",
      "Epoch 2/20\n"
     ]
    },
    {
     "name": "stderr",
     "output_type": "stream",
     "text": [
      "C:\\Users\\habib\\AppData\\Local\\Continuum\\anaconda3\\lib\\site-packages\\keras\\callbacks\\callbacks.py:1042: RuntimeWarning: Reduce LR on plateau conditioned on metric `val_acc` which is not available. Available metrics are: val_loss,val_accuracy,loss,accuracy,lr\n",
      "  (self.monitor, ','.join(list(logs.keys()))), RuntimeWarning\n"
     ]
    },
    {
     "name": "stdout",
     "output_type": "stream",
     "text": [
      "72/72 [==============================] - 23s 316ms/step - loss: 0.4498 - accuracy: 0.8562 - val_loss: 0.0406 - val_accuracy: 0.8500\n",
      "Epoch 3/20\n",
      "72/72 [==============================] - 25s 343ms/step - loss: 0.3729 - accuracy: 0.8653 - val_loss: 0.7866 - val_accuracy: 0.8667\n",
      "Epoch 4/20\n",
      "72/72 [==============================] - 28s 382ms/step - loss: 0.3352 - accuracy: 0.8910 - val_loss: 0.3305 - val_accuracy: 0.8500\n",
      "Epoch 5/20\n",
      "72/72 [==============================] - 27s 371ms/step - loss: 0.2698 - accuracy: 0.9090 - val_loss: 0.0467 - val_accuracy: 0.9333\n",
      "Epoch 6/20\n",
      "72/72 [==============================] - 26s 358ms/step - loss: 0.2359 - accuracy: 0.9236 - val_loss: 0.0856 - val_accuracy: 0.9500\n",
      "Epoch 7/20\n",
      "72/72 [==============================] - 22s 309ms/step - loss: 0.1763 - accuracy: 0.9361 - val_loss: 0.9625 - val_accuracy: 0.8167\n",
      "Epoch 8/20\n",
      "72/72 [==============================] - 24s 337ms/step - loss: 0.1618 - accuracy: 0.9451 - val_loss: 2.3753 - val_accuracy: 0.8500\n",
      "Epoch 9/20\n",
      "72/72 [==============================] - 23s 319ms/step - loss: 0.1522 - accuracy: 0.9556 - val_loss: 0.0021 - val_accuracy: 0.9333\n",
      "Epoch 10/20\n",
      "72/72 [==============================] - 23s 325ms/step - loss: 0.1397 - accuracy: 0.9556 - val_loss: 1.6894 - val_accuracy: 0.8667\n",
      "Epoch 11/20\n",
      "72/72 [==============================] - 23s 325ms/step - loss: 0.1071 - accuracy: 0.9646 - val_loss: 0.0000e+00 - val_accuracy: 0.8833\n",
      "Epoch 12/20\n",
      "72/72 [==============================] - 22s 310ms/step - loss: 0.1094 - accuracy: 0.9681 - val_loss: 0.0147 - val_accuracy: 0.9833\n",
      "Epoch 13/20\n",
      "72/72 [==============================] - 23s 319ms/step - loss: 0.0731 - accuracy: 0.9778 - val_loss: 0.2011 - val_accuracy: 0.9167\n",
      "Epoch 14/20\n",
      "72/72 [==============================] - 23s 317ms/step - loss: 0.0753 - accuracy: 0.9771 - val_loss: 5.2161 - val_accuracy: 0.9333\n",
      "Epoch 15/20\n",
      "72/72 [==============================] - 24s 331ms/step - loss: 0.0793 - accuracy: 0.9757 - val_loss: 0.5997 - val_accuracy: 0.8833\n",
      "Epoch 16/20\n",
      "72/72 [==============================] - 22s 303ms/step - loss: 0.0557 - accuracy: 0.9868 - val_loss: 1.6136 - val_accuracy: 0.8167\n",
      "Epoch 17/20\n",
      "72/72 [==============================] - 22s 302ms/step - loss: 0.0522 - accuracy: 0.9847 - val_loss: 0.8751 - val_accuracy: 0.9333\n",
      "Epoch 18/20\n",
      "72/72 [==============================] - 22s 299ms/step - loss: 0.0654 - accuracy: 0.9799 - val_loss: 1.0741 - val_accuracy: 0.9167\n",
      "Epoch 19/20\n",
      "72/72 [==============================] - 22s 308ms/step - loss: 0.0339 - accuracy: 0.9917 - val_loss: 0.0131 - val_accuracy: 0.8833\n",
      "Epoch 20/20\n",
      "72/72 [==============================] - 22s 300ms/step - loss: 0.0811 - accuracy: 0.9861 - val_loss: 1.8643 - val_accuracy: 0.9167\n"
     ]
    },
    {
     "data": {
      "text/plain": [
       "<keras.callbacks.callbacks.History at 0x1f21d12f408>"
      ]
     },
     "execution_count": 9,
     "metadata": {},
     "output_type": "execute_result"
    }
   ],
   "source": [
    "model.fit_generator(train_generator,steps_per_epoch=72,epochs=20,validation_data=validation_generator,validation_steps=12,callbacks=callbacks)"
   ]
  },
  {
   "cell_type": "code",
   "execution_count": 11,
   "metadata": {},
   "outputs": [],
   "source": [
    "import keras\n",
    "from keras.models import Sequential\n",
    "from keras.layers import Conv2D,MaxPooling2D,\\\n",
    "     Dropout,Flatten,Dense,Activation\n",
    "model=Sequential()\n",
    "model.add(Conv2D(32,(3,3),activation='relu',input_shape=(128,128,3)))\n",
    "model.add(MaxPooling2D(pool_size=(2,2)))\n",
    "model.add(Conv2D(32,(3,3),activation='relu'))\n",
    "model.add(MaxPooling2D(pool_size=(2,2)))\n",
    "model.add(Dropout(0.1))\n",
    "model.add(Flatten())\n",
    "model.add(Dense(64,activation='relu'))\n",
    "model.add(Dropout(0.1))\n",
    "model.add(Dense(4,activation='softmax'))\n",
    "optimizers=keras.optimizers.SGD(momentum=0.01, nesterov=True)\n",
    "model.compile(loss='categorical_crossentropy',\n",
    "  optimizer=optimizers,metrics=['accuracy'])\n"
   ]
  },
  {
   "cell_type": "code",
   "execution_count": 15,
   "metadata": {},
   "outputs": [
    {
     "name": "stdout",
     "output_type": "stream",
     "text": [
      "Epoch 1/20\n",
      "72/72 [==============================] - 23s 318ms/step - loss: 0.7137 - accuracy: 0.8153 - val_loss: 0.6889 - val_accuracy: 0.9000\n",
      "Epoch 2/20\n"
     ]
    },
    {
     "name": "stderr",
     "output_type": "stream",
     "text": [
      "C:\\Users\\habib\\AppData\\Local\\Continuum\\anaconda3\\lib\\site-packages\\keras\\callbacks\\callbacks.py:1042: RuntimeWarning: Reduce LR on plateau conditioned on metric `val_acc` which is not available. Available metrics are: val_loss,val_accuracy,loss,accuracy,lr\n",
      "  (self.monitor, ','.join(list(logs.keys()))), RuntimeWarning\n"
     ]
    },
    {
     "name": "stdout",
     "output_type": "stream",
     "text": [
      "72/72 [==============================] - 23s 325ms/step - loss: 0.4619 - accuracy: 0.8431 - val_loss: 0.2558 - val_accuracy: 0.9000\n",
      "Epoch 3/20\n",
      "72/72 [==============================] - 37s 512ms/step - loss: 0.3340 - accuracy: 0.8833 - val_loss: 0.0192 - val_accuracy: 0.8333\n",
      "Epoch 4/20\n",
      "72/72 [==============================] - 39s 540ms/step - loss: 0.2986 - accuracy: 0.9014 - val_loss: 0.3862 - val_accuracy: 0.8000\n",
      "Epoch 5/20\n",
      "72/72 [==============================] - 40s 557ms/step - loss: 0.2101 - accuracy: 0.9319 - val_loss: 0.1209 - val_accuracy: 0.9000\n",
      "Epoch 6/20\n",
      "72/72 [==============================] - 39s 535ms/step - loss: 0.1607 - accuracy: 0.9465 - val_loss: 0.0243 - val_accuracy: 0.9500\n",
      "Epoch 7/20\n",
      "72/72 [==============================] - 39s 545ms/step - loss: 0.1380 - accuracy: 0.9535 - val_loss: 0.0032 - val_accuracy: 0.9500\n",
      "Epoch 8/20\n",
      "72/72 [==============================] - 39s 547ms/step - loss: 0.2113 - accuracy: 0.9278 - val_loss: 0.4120 - val_accuracy: 0.9167\n",
      "Epoch 9/20\n",
      "72/72 [==============================] - 39s 536ms/step - loss: 0.1220 - accuracy: 0.9556 - val_loss: 1.0431 - val_accuracy: 0.8667\n",
      "Epoch 10/20\n",
      "72/72 [==============================] - 40s 553ms/step - loss: 0.0795 - accuracy: 0.9736 - val_loss: 1.1380 - val_accuracy: 0.8833\n",
      "Epoch 11/20\n",
      "72/72 [==============================] - 40s 555ms/step - loss: 0.0863 - accuracy: 0.9764 - val_loss: 2.3937e-04 - val_accuracy: 0.8667\n",
      "Epoch 12/20\n",
      "72/72 [==============================] - 39s 538ms/step - loss: 0.0634 - accuracy: 0.9792 - val_loss: 3.6133 - val_accuracy: 0.8667\n",
      "Epoch 13/20\n",
      "72/72 [==============================] - 40s 561ms/step - loss: 0.0345 - accuracy: 0.9896 - val_loss: 3.8715e-04 - val_accuracy: 0.9833\n",
      "Epoch 14/20\n",
      "72/72 [==============================] - 41s 563ms/step - loss: 0.0409 - accuracy: 0.9868 - val_loss: 0.0439 - val_accuracy: 0.8500\n",
      "Epoch 15/20\n",
      "72/72 [==============================] - 40s 552ms/step - loss: 0.0706 - accuracy: 0.9812 - val_loss: 2.1701 - val_accuracy: 0.8167\n",
      "Epoch 16/20\n",
      "72/72 [==============================] - 39s 548ms/step - loss: 0.1122 - accuracy: 0.9674 - val_loss: 0.3788 - val_accuracy: 0.9167\n",
      "Epoch 17/20\n",
      "72/72 [==============================] - 39s 540ms/step - loss: 0.0778 - accuracy: 0.9785 - val_loss: 3.5272 - val_accuracy: 0.9000\n",
      "Epoch 18/20\n",
      "72/72 [==============================] - 38s 533ms/step - loss: 0.0569 - accuracy: 0.9826 - val_loss: 0.4049 - val_accuracy: 0.9167\n",
      "Epoch 19/20\n",
      "72/72 [==============================] - 39s 544ms/step - loss: 0.0239 - accuracy: 0.9931 - val_loss: 9.2992e-05 - val_accuracy: 0.8500\n",
      "Epoch 20/20\n",
      "72/72 [==============================] - 39s 543ms/step - loss: 0.0152 - accuracy: 0.9951 - val_loss: 0.5741 - val_accuracy: 0.9000\n"
     ]
    },
    {
     "data": {
      "text/plain": [
       "<keras.callbacks.callbacks.History at 0x1f21fe52448>"
      ]
     },
     "execution_count": 15,
     "metadata": {},
     "output_type": "execute_result"
    }
   ],
   "source": [
    "model.fit_generator(train_generator,steps_per_epoch=72,epochs=20,validation_data=validation_generator,validation_steps=12,callbacks=callbacks)"
   ]
  },
  {
   "cell_type": "code",
   "execution_count": 16,
   "metadata": {},
   "outputs": [],
   "source": [
    "from keras.models import Sequential\n",
    "from keras.layers import Conv2D,MaxPooling2D,\\\n",
    "     Dropout,Flatten,Dense,Activation\n",
    "model=Sequential()\n",
    "model.add(Conv2D(32,(3,3),activation='relu',input_shape=(128,128,3)))\n",
    "model.add(MaxPooling2D(pool_size=(2,2)))\n",
    "model.add(Conv2D(32,(3,3),activation='relu'))\n",
    "model.add(MaxPooling2D(pool_size=(2,2)))\n",
    "model.add(Dropout(0.1))\n",
    "model.add(Flatten())\n",
    "model.add(Dense(64,activation='relu'))\n",
    "model.add(Dropout(0.1))\n",
    "model.add(Dense(4,activation='softmax'))\n",
    "optimizers=keras.optimizers.SGD(momentum=0.01)\n",
    "model.compile(loss='categorical_crossentropy',\n",
    "  optimizer=optimizers,metrics=['accuracy'])\n"
   ]
  },
  {
   "cell_type": "code",
   "execution_count": 17,
   "metadata": {},
   "outputs": [
    {
     "name": "stdout",
     "output_type": "stream",
     "text": [
      "Epoch 1/20\n",
      "72/72 [==============================] - 38s 528ms/step - loss: 0.7035 - accuracy: 0.8125 - val_loss: 0.2054 - val_accuracy: 0.7500\n",
      "Epoch 2/20\n"
     ]
    },
    {
     "name": "stderr",
     "output_type": "stream",
     "text": [
      "C:\\Users\\habib\\AppData\\Local\\Continuum\\anaconda3\\lib\\site-packages\\keras\\callbacks\\callbacks.py:1042: RuntimeWarning: Reduce LR on plateau conditioned on metric `val_acc` which is not available. Available metrics are: val_loss,val_accuracy,loss,accuracy,lr\n",
      "  (self.monitor, ','.join(list(logs.keys()))), RuntimeWarning\n"
     ]
    },
    {
     "name": "stdout",
     "output_type": "stream",
     "text": [
      "72/72 [==============================] - 39s 541ms/step - loss: 0.5726 - accuracy: 0.8417 - val_loss: 1.7152 - val_accuracy: 0.8000\n",
      "Epoch 3/20\n",
      "72/72 [==============================] - 37s 514ms/step - loss: 0.5585 - accuracy: 0.8229 - val_loss: 0.6418 - val_accuracy: 0.8167\n",
      "Epoch 4/20\n",
      "72/72 [==============================] - 37s 519ms/step - loss: 0.5182 - accuracy: 0.8299 - val_loss: 0.2605 - val_accuracy: 0.8500\n",
      "Epoch 5/20\n",
      "72/72 [==============================] - 38s 524ms/step - loss: 0.5078 - accuracy: 0.8313 - val_loss: 0.0656 - val_accuracy: 0.9000\n",
      "Epoch 6/20\n",
      "72/72 [==============================] - 37s 511ms/step - loss: 0.4908 - accuracy: 0.8396 - val_loss: 0.1492 - val_accuracy: 0.9000\n",
      "Epoch 7/20\n",
      "72/72 [==============================] - 38s 530ms/step - loss: 0.4737 - accuracy: 0.8410 - val_loss: 0.6320 - val_accuracy: 0.8500\n",
      "Epoch 8/20\n",
      "72/72 [==============================] - 38s 522ms/step - loss: 0.4078 - accuracy: 0.8639 - val_loss: 0.3644 - val_accuracy: 0.8500\n",
      "Epoch 9/20\n",
      "72/72 [==============================] - 37s 517ms/step - loss: 0.4278 - accuracy: 0.8521 - val_loss: 0.0753 - val_accuracy: 0.9000\n",
      "Epoch 10/20\n",
      "72/72 [==============================] - 38s 521ms/step - loss: 0.4041 - accuracy: 0.8604 - val_loss: 0.5928 - val_accuracy: 0.9000\n",
      "Epoch 11/20\n",
      "72/72 [==============================] - 37s 510ms/step - loss: 0.3938 - accuracy: 0.8618 - val_loss: 0.6736 - val_accuracy: 0.8667\n",
      "Epoch 12/20\n",
      "72/72 [==============================] - 37s 510ms/step - loss: 0.3795 - accuracy: 0.8639 - val_loss: 0.4781 - val_accuracy: 0.8167\n",
      "Epoch 13/20\n",
      "72/72 [==============================] - 37s 517ms/step - loss: 0.3664 - accuracy: 0.8715 - val_loss: 0.1434 - val_accuracy: 0.9000\n",
      "Epoch 14/20\n",
      "72/72 [==============================] - 37s 517ms/step - loss: 0.3615 - accuracy: 0.8681 - val_loss: 0.1097 - val_accuracy: 0.9000\n",
      "Epoch 15/20\n",
      "72/72 [==============================] - 37s 510ms/step - loss: 0.3490 - accuracy: 0.8660 - val_loss: 0.1620 - val_accuracy: 0.9167\n"
     ]
    },
    {
     "data": {
      "text/plain": [
       "<keras.callbacks.callbacks.History at 0x1f21fe5d2c8>"
      ]
     },
     "execution_count": 17,
     "metadata": {},
     "output_type": "execute_result"
    }
   ],
   "source": [
    "model.fit_generator(train_generator,steps_per_epoch=72,epochs=20,validation_data=validation_generator,validation_steps=12,callbacks=callbacks)"
   ]
  },
  {
   "cell_type": "code",
   "execution_count": 18,
   "metadata": {},
   "outputs": [],
   "source": [
    "from keras.models import Sequential\n",
    "from keras.layers import Conv2D,MaxPooling2D,\\\n",
    "     Dropout,Flatten,Dense,Activation\n",
    "model=Sequential()\n",
    "model.add(Conv2D(32,(3,3),activation='relu',input_shape=(128,128,3)))\n",
    "model.add(MaxPooling2D(pool_size=(2,2)))\n",
    "model.add(Conv2D(32,(3,3),activation='relu'))\n",
    "model.add(MaxPooling2D(pool_size=(2,2)))\n",
    "model.add(Dropout(0.1))\n",
    "model.add(Flatten())\n",
    "model.add(Dense(64,activation='relu'))\n",
    "model.add(Dropout(0.1))\n",
    "model.add(Dense(4,activation='softmax'))\n",
    "model.compile(loss='categorical_crossentropy',\n",
    "  optimizer='nadam',metrics=['accuracy'])"
   ]
  },
  {
   "cell_type": "code",
   "execution_count": 19,
   "metadata": {},
   "outputs": [
    {
     "name": "stdout",
     "output_type": "stream",
     "text": [
      "Epoch 1/20\n",
      "72/72 [==============================] - 40s 552ms/step - loss: 0.6870 - accuracy: 0.8208 - val_loss: 0.1346 - val_accuracy: 0.8833\n"
     ]
    },
    {
     "name": "stderr",
     "output_type": "stream",
     "text": [
      "C:\\Users\\habib\\AppData\\Local\\Continuum\\anaconda3\\lib\\site-packages\\keras\\callbacks\\callbacks.py:1042: RuntimeWarning: Reduce LR on plateau conditioned on metric `val_acc` which is not available. Available metrics are: val_loss,val_accuracy,loss,accuracy,lr\n",
      "  (self.monitor, ','.join(list(logs.keys()))), RuntimeWarning\n"
     ]
    },
    {
     "name": "stdout",
     "output_type": "stream",
     "text": [
      "Epoch 2/20\n",
      "72/72 [==============================] - 39s 543ms/step - loss: 0.4754 - accuracy: 0.8368 - val_loss: 0.0980 - val_accuracy: 0.9167\n",
      "Epoch 3/20\n",
      "72/72 [==============================] - 39s 547ms/step - loss: 0.3825 - accuracy: 0.8694 - val_loss: 0.0056 - val_accuracy: 0.8833\n",
      "Epoch 4/20\n",
      "72/72 [==============================] - 39s 541ms/step - loss: 0.3303 - accuracy: 0.8799 - val_loss: 0.0355 - val_accuracy: 0.8333\n",
      "Epoch 5/20\n",
      "72/72 [==============================] - 39s 541ms/step - loss: 0.3312 - accuracy: 0.8792 - val_loss: 0.9692 - val_accuracy: 0.8333\n",
      "Epoch 6/20\n",
      "72/72 [==============================] - 38s 534ms/step - loss: 0.2989 - accuracy: 0.8889 - val_loss: 0.8027 - val_accuracy: 0.8500\n",
      "Epoch 7/20\n",
      "72/72 [==============================] - 39s 541ms/step - loss: 0.2101 - accuracy: 0.9174 - val_loss: 2.3150 - val_accuracy: 0.8167\n",
      "Epoch 8/20\n",
      "72/72 [==============================] - 40s 549ms/step - loss: 0.1853 - accuracy: 0.9326 - val_loss: 0.0847 - val_accuracy: 0.8667\n",
      "Epoch 9/20\n",
      "72/72 [==============================] - 39s 542ms/step - loss: 0.1409 - accuracy: 0.9444 - val_loss: 0.0396 - val_accuracy: 0.8833\n",
      "Epoch 10/20\n",
      "72/72 [==============================] - 39s 543ms/step - loss: 0.1601 - accuracy: 0.9465 - val_loss: 2.6230 - val_accuracy: 0.8833\n",
      "Epoch 11/20\n",
      "72/72 [==============================] - 39s 541ms/step - loss: 0.1470 - accuracy: 0.9500 - val_loss: 0.0037 - val_accuracy: 0.8833\n",
      "Epoch 12/20\n",
      "72/72 [==============================] - 38s 531ms/step - loss: 0.0829 - accuracy: 0.9694 - val_loss: 1.1882 - val_accuracy: 0.9000\n",
      "Epoch 13/20\n",
      "72/72 [==============================] - 40s 551ms/step - loss: 0.0825 - accuracy: 0.9694 - val_loss: 2.6105 - val_accuracy: 0.8500\n",
      "Epoch 14/20\n",
      "72/72 [==============================] - 40s 555ms/step - loss: 0.0637 - accuracy: 0.9812 - val_loss: 0.7034 - val_accuracy: 0.9167\n",
      "Epoch 15/20\n",
      "72/72 [==============================] - 39s 537ms/step - loss: 0.0373 - accuracy: 0.9882 - val_loss: 0.0519 - val_accuracy: 0.8833\n",
      "Epoch 16/20\n",
      "72/72 [==============================] - 39s 539ms/step - loss: 0.0507 - accuracy: 0.9806 - val_loss: 0.0041 - val_accuracy: 0.9000\n",
      "Epoch 17/20\n",
      "72/72 [==============================] - 39s 544ms/step - loss: 0.1622 - accuracy: 0.9583 - val_loss: 0.0151 - val_accuracy: 0.9000\n",
      "Epoch 18/20\n",
      "72/72 [==============================] - 39s 545ms/step - loss: 0.0632 - accuracy: 0.9792 - val_loss: 7.1425e-04 - val_accuracy: 0.9167\n",
      "Epoch 19/20\n",
      "72/72 [==============================] - 39s 540ms/step - loss: 0.0228 - accuracy: 0.9931 - val_loss: 0.0023 - val_accuracy: 0.8333\n",
      "Epoch 20/20\n",
      "72/72 [==============================] - 39s 543ms/step - loss: 0.0188 - accuracy: 0.9931 - val_loss: 0.3822 - val_accuracy: 0.8500\n"
     ]
    },
    {
     "data": {
      "text/plain": [
       "<keras.callbacks.callbacks.History at 0x1f21ffe4208>"
      ]
     },
     "execution_count": 19,
     "metadata": {},
     "output_type": "execute_result"
    }
   ],
   "source": [
    "model.fit_generator(train_generator,steps_per_epoch=72,epochs=20,validation_data=validation_generator,validation_steps=12,callbacks=callbacks)"
   ]
  }
 ],
 "metadata": {
  "kernelspec": {
   "display_name": "myenv",
   "language": "python",
   "name": "myenv"
  },
  "language_info": {
   "codemirror_mode": {
    "name": "ipython",
    "version": 3
   },
   "file_extension": ".py",
   "mimetype": "text/x-python",
   "name": "python",
   "nbconvert_exporter": "python",
   "pygments_lexer": "ipython3",
   "version": "3.7.4"
  }
 },
 "nbformat": 4,
 "nbformat_minor": 2
}
