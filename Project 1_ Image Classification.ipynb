{
 "cells": [
  {
   "cell_type": "code",
   "execution_count": 1,
   "metadata": {},
   "outputs": [
    {
     "name": "stderr",
     "output_type": "stream",
     "text": [
      "Using TensorFlow backend.\n"
     ]
    }
   ],
   "source": [
    "import keras\n",
    "from keras.preprocessing.image import ImageDataGenerator\n",
    "import warnings\n",
    "warnings.filterwarnings('ignore')"
   ]
  },
  {
   "cell_type": "code",
   "execution_count": 2,
   "metadata": {},
   "outputs": [],
   "source": [
    "train_datagen=ImageDataGenerator(rescale=1./255)"
   ]
  },
  {
   "cell_type": "code",
   "execution_count": 3,
   "metadata": {},
   "outputs": [],
   "source": [
    "test_datagen=ImageDataGenerator(\n",
    "rescale=1./255)"
   ]
  },
  {
   "cell_type": "code",
   "execution_count": 4,
   "metadata": {},
   "outputs": [],
   "source": [
    "validation_datagen=ImageDataGenerator(\n",
    "rescale=1./255)"
   ]
  },
  {
   "cell_type": "code",
   "execution_count": 5,
   "metadata": {},
   "outputs": [
    {
     "name": "stdout",
     "output_type": "stream",
     "text": [
      "Found 5319 images belonging to 2 classes.\n"
     ]
    }
   ],
   "source": [
    "training_set=train_datagen.flow_from_directory('dataset/training',target_size=(64,64),batch_size=32,class_mode='binary')"
   ]
  },
  {
   "cell_type": "code",
   "execution_count": 6,
   "metadata": {},
   "outputs": [
    {
     "name": "stdout",
     "output_type": "stream",
     "text": [
      "Found 1209 images belonging to 2 classes.\n"
     ]
    }
   ],
   "source": [
    "validation_set=validation_datagen.flow_from_directory('dataset/test',target_size=(64,64),batch_size=32,class_mode='binary')"
   ]
  },
  {
   "cell_type": "code",
   "execution_count": 7,
   "metadata": {},
   "outputs": [
    {
     "name": "stdout",
     "output_type": "stream",
     "text": [
      "Found 823 images belonging to 1 classes.\n"
     ]
    }
   ],
   "source": [
    "test_set=test_datagen.flow_from_directory('dataset/test1',target_size=(64,64),batch_size=32,shuffle=False)"
   ]
  },
  {
   "cell_type": "code",
   "execution_count": 8,
   "metadata": {},
   "outputs": [],
   "source": [
    "from keras.models import Sequential\n",
    "from keras.layers import Dense, Dropout, Convolution2D, MaxPooling2D, Flatten\n",
    "from keras.utils import np_utils"
   ]
  },
  {
   "cell_type": "code",
   "execution_count": 9,
   "metadata": {},
   "outputs": [],
   "source": [
    "classifier=Sequential()"
   ]
  },
  {
   "cell_type": "code",
   "execution_count": 10,
   "metadata": {},
   "outputs": [
    {
     "name": "stdout",
     "output_type": "stream",
     "text": [
      "WARNING:tensorflow:From C:\\Users\\habib\\AppData\\Local\\Continuum\\anaconda3\\lib\\site-packages\\tensorflow_core\\python\\ops\\resource_variable_ops.py:1630: calling BaseResourceVariable.__init__ (from tensorflow.python.ops.resource_variable_ops) with constraint is deprecated and will be removed in a future version.\n",
      "Instructions for updating:\n",
      "If using Keras pass *_constraint arguments to layers.\n"
     ]
    }
   ],
   "source": [
    "classifier.add(Convolution2D(32,3,3,input_shape=(64,64,3),activation='relu'))"
   ]
  },
  {
   "cell_type": "code",
   "execution_count": 11,
   "metadata": {},
   "outputs": [
    {
     "name": "stdout",
     "output_type": "stream",
     "text": [
      "WARNING:tensorflow:From C:\\Users\\habib\\AppData\\Local\\Continuum\\anaconda3\\lib\\site-packages\\keras\\backend\\tensorflow_backend.py:4070: The name tf.nn.max_pool is deprecated. Please use tf.nn.max_pool2d instead.\n",
      "\n"
     ]
    }
   ],
   "source": [
    "classifier.add(MaxPooling2D(pool_size=(2,2),strides=2))"
   ]
  },
  {
   "cell_type": "code",
   "execution_count": 12,
   "metadata": {},
   "outputs": [],
   "source": [
    "classifier.add(Convolution2D(32,3,3,activation='relu'))"
   ]
  },
  {
   "cell_type": "code",
   "execution_count": 13,
   "metadata": {},
   "outputs": [],
   "source": [
    "classifier.add(MaxPooling2D(pool_size=(2,2),strides=2))"
   ]
  },
  {
   "cell_type": "code",
   "execution_count": 14,
   "metadata": {},
   "outputs": [],
   "source": [
    "classifier.add(Flatten())"
   ]
  },
  {
   "cell_type": "code",
   "execution_count": 15,
   "metadata": {},
   "outputs": [],
   "source": [
    "classifier.add(Dense(output_dim=128,activation='relu'))"
   ]
  },
  {
   "cell_type": "code",
   "execution_count": 16,
   "metadata": {},
   "outputs": [],
   "source": [
    "classifier.add(Dense(output_dim=1,activation='sigmoid'))"
   ]
  },
  {
   "cell_type": "code",
   "execution_count": 17,
   "metadata": {},
   "outputs": [
    {
     "name": "stdout",
     "output_type": "stream",
     "text": [
      "WARNING:tensorflow:From C:\\Users\\habib\\AppData\\Local\\Continuum\\anaconda3\\lib\\site-packages\\tensorflow_core\\python\\ops\\nn_impl.py:183: where (from tensorflow.python.ops.array_ops) is deprecated and will be removed in a future version.\n",
      "Instructions for updating:\n",
      "Use tf.where in 2.0, which has the same broadcast rule as np.where\n"
     ]
    }
   ],
   "source": [
    "classifier.compile(optimizer='adam',loss='binary_crossentropy',metrics=['accuracy'])"
   ]
  },
  {
   "cell_type": "code",
   "execution_count": 18,
   "metadata": {},
   "outputs": [
    {
     "name": "stdout",
     "output_type": "stream",
     "text": [
      "WARNING:tensorflow:From C:\\Users\\habib\\AppData\\Local\\Continuum\\anaconda3\\lib\\site-packages\\keras\\backend\\tensorflow_backend.py:422: The name tf.global_variables is deprecated. Please use tf.compat.v1.global_variables instead.\n",
      "\n",
      "Epoch 1/20\n",
      "166/166 [==============================] - 29s 175ms/step - loss: 0.5414 - accuracy: 0.7524 - val_loss: 0.7319 - val_accuracy: 0.5262\n",
      "Epoch 2/20\n",
      "166/166 [==============================] - 29s 174ms/step - loss: 0.4828 - accuracy: 0.7704 - val_loss: 0.7757 - val_accuracy: 0.5472\n",
      "Epoch 3/20\n",
      "166/166 [==============================] - 34s 204ms/step - loss: 0.4329 - accuracy: 0.8001 - val_loss: 0.6767 - val_accuracy: 0.6856\n",
      "Epoch 4/20\n",
      "166/166 [==============================] - 35s 209ms/step - loss: 0.3923 - accuracy: 0.8213 - val_loss: 0.7161 - val_accuracy: 0.6737\n",
      "Epoch 5/20\n",
      "166/166 [==============================] - 33s 200ms/step - loss: 0.3465 - accuracy: 0.8430 - val_loss: 0.5136 - val_accuracy: 0.7188\n",
      "Epoch 6/20\n",
      "166/166 [==============================] - 30s 179ms/step - loss: 0.3114 - accuracy: 0.8612 - val_loss: 0.5447 - val_accuracy: 0.6958\n",
      "Epoch 7/20\n",
      "166/166 [==============================] - 30s 182ms/step - loss: 0.2605 - accuracy: 0.8871 - val_loss: 0.6213 - val_accuracy: 0.6720\n",
      "Epoch 8/20\n",
      "166/166 [==============================] - 30s 180ms/step - loss: 0.2125 - accuracy: 0.9143 - val_loss: 1.5254 - val_accuracy: 0.6805\n",
      "Epoch 9/20\n",
      "166/166 [==============================] - 30s 181ms/step - loss: 0.1713 - accuracy: 0.9338 - val_loss: 0.5269 - val_accuracy: 0.6967\n",
      "Epoch 10/20\n",
      "166/166 [==============================] - 30s 179ms/step - loss: 0.1243 - accuracy: 0.9535 - val_loss: 1.0232 - val_accuracy: 0.6916\n",
      "Epoch 11/20\n",
      "166/166 [==============================] - 30s 179ms/step - loss: 0.0996 - accuracy: 0.9627 - val_loss: 0.8638 - val_accuracy: 0.7417\n",
      "Epoch 12/20\n",
      "166/166 [==============================] - 29s 176ms/step - loss: 0.0767 - accuracy: 0.9743 - val_loss: 0.7805 - val_accuracy: 0.7307\n",
      "Epoch 13/20\n",
      "166/166 [==============================] - 29s 176ms/step - loss: 0.0438 - accuracy: 0.9875 - val_loss: 1.3575 - val_accuracy: 0.6856\n",
      "Epoch 14/20\n",
      "166/166 [==============================] - 29s 177ms/step - loss: 0.0366 - accuracy: 0.9894 - val_loss: 1.6311 - val_accuracy: 0.7145\n",
      "Epoch 15/20\n",
      "166/166 [==============================] - 29s 176ms/step - loss: 0.0323 - accuracy: 0.9913 - val_loss: 1.2891 - val_accuracy: 0.7077\n",
      "Epoch 16/20\n",
      "166/166 [==============================] - 30s 181ms/step - loss: 0.0240 - accuracy: 0.9941 - val_loss: 0.8898 - val_accuracy: 0.7264\n",
      "Epoch 17/20\n",
      "166/166 [==============================] - 29s 177ms/step - loss: 0.0367 - accuracy: 0.9888 - val_loss: 1.2834 - val_accuracy: 0.6746\n",
      "Epoch 18/20\n",
      "166/166 [==============================] - 31s 185ms/step - loss: 0.0121 - accuracy: 0.9985 - val_loss: 2.1912 - val_accuracy: 0.6984\n",
      "Epoch 19/20\n",
      "166/166 [==============================] - 32s 192ms/step - loss: 0.0043 - accuracy: 1.0000 - val_loss: 1.6876 - val_accuracy: 0.7341\n",
      "Epoch 20/20\n",
      "166/166 [==============================] - 30s 179ms/step - loss: 0.0023 - accuracy: 1.0000 - val_loss: 1.9046 - val_accuracy: 0.7230\n"
     ]
    },
    {
     "data": {
      "text/plain": [
       "<keras.callbacks.callbacks.History at 0x14439e23b48>"
      ]
     },
     "execution_count": 18,
     "metadata": {},
     "output_type": "execute_result"
    }
   ],
   "source": [
    "classifier.fit_generator(training_set,steps_per_epoch=166,epochs=20,validation_data=validation_set,validation_steps=37)"
   ]
  },
  {
   "cell_type": "code",
   "execution_count": 19,
   "metadata": {},
   "outputs": [
    {
     "name": "stdout",
     "output_type": "stream",
     "text": [
      "Model: \"sequential_1\"\n",
      "_________________________________________________________________\n",
      "Layer (type)                 Output Shape              Param #   \n",
      "=================================================================\n",
      "conv2d_1 (Conv2D)            (None, 62, 62, 32)        896       \n",
      "_________________________________________________________________\n",
      "max_pooling2d_1 (MaxPooling2 (None, 31, 31, 32)        0         \n",
      "_________________________________________________________________\n",
      "conv2d_2 (Conv2D)            (None, 29, 29, 32)        9248      \n",
      "_________________________________________________________________\n",
      "max_pooling2d_2 (MaxPooling2 (None, 14, 14, 32)        0         \n",
      "_________________________________________________________________\n",
      "flatten_1 (Flatten)          (None, 6272)              0         \n",
      "_________________________________________________________________\n",
      "dense_1 (Dense)              (None, 128)               802944    \n",
      "_________________________________________________________________\n",
      "dense_2 (Dense)              (None, 1)                 129       \n",
      "=================================================================\n",
      "Total params: 813,217\n",
      "Trainable params: 813,217\n",
      "Non-trainable params: 0\n",
      "_________________________________________________________________\n"
     ]
    }
   ],
   "source": [
    "classifier.summary()"
   ]
  },
  {
   "cell_type": "code",
   "execution_count": 22,
   "metadata": {},
   "outputs": [],
   "source": [
    "classifier.save('dogcat_model_bak.h5')"
   ]
  },
  {
   "cell_type": "code",
   "execution_count": null,
   "metadata": {},
   "outputs": [],
   "source": []
  }
 ],
 "metadata": {
  "kernelspec": {
   "display_name": "myenv",
   "language": "python",
   "name": "myenv"
  },
  "language_info": {
   "codemirror_mode": {
    "name": "ipython",
    "version": 3
   },
   "file_extension": ".py",
   "mimetype": "text/x-python",
   "name": "python",
   "nbconvert_exporter": "python",
   "pygments_lexer": "ipython3",
   "version": "3.7.4"
  }
 },
 "nbformat": 4,
 "nbformat_minor": 2
}
