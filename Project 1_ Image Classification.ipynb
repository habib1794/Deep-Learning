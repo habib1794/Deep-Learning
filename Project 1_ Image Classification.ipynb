{
 "cells": [
  {
   "cell_type": "code",
   "execution_count": 1,
   "metadata": {},
   "outputs": [
    {
     "name": "stderr",
     "output_type": "stream",
     "text": [
      "Using TensorFlow backend.\n"
     ]
    }
   ],
   "source": [
    "import keras\n",
    "from keras.preprocessing.image import ImageDataGenerator\n",
    "import warnings\n",
    "warnings.filterwarnings('ignore')"
   ]
  },
  {
   "cell_type": "code",
   "execution_count": 2,
   "metadata": {},
   "outputs": [],
   "source": [
    "train_datagen=ImageDataGenerator(rescale=1./255)"
   ]
  },
  {
   "cell_type": "code",
   "execution_count": 3,
   "metadata": {},
   "outputs": [],
   "source": [
    "test_datagen=ImageDataGenerator(\n",
    "rescale=1./255)"
   ]
  },
  {
   "cell_type": "code",
   "execution_count": 4,
   "metadata": {},
   "outputs": [],
   "source": [
    "validation_datagen=ImageDataGenerator(\n",
    "rescale=1./255)"
   ]
  },
  {
   "cell_type": "code",
   "execution_count": 5,
   "metadata": {},
   "outputs": [
    {
     "name": "stdout",
     "output_type": "stream",
     "text": [
      "Found 5319 images belonging to 2 classes.\n"
     ]
    }
   ],
   "source": [
    "training_set=train_datagen.flow_from_directory('dataset/training',target_size=(64,64),batch_size=32,class_mode='binary')"
   ]
  },
  {
   "cell_type": "code",
   "execution_count": 6,
   "metadata": {},
   "outputs": [
    {
     "name": "stdout",
     "output_type": "stream",
     "text": [
      "Found 1209 images belonging to 2 classes.\n"
     ]
    }
   ],
   "source": [
    "validation_set=validation_datagen.flow_from_directory('dataset/test',target_size=(64,64),batch_size=32,class_mode='binary')"
   ]
  },
  {
   "cell_type": "code",
   "execution_count": 7,
   "metadata": {},
   "outputs": [
    {
     "name": "stdout",
     "output_type": "stream",
     "text": [
      "Found 823 images belonging to 1 classes.\n"
     ]
    }
   ],
   "source": [
    "test_set=test_datagen.flow_from_directory('dataset/test1',target_size=(64,64),batch_size=32,shuffle=False)"
   ]
  },
  {
   "cell_type": "code",
   "execution_count": 8,
   "metadata": {},
   "outputs": [],
   "source": [
    "from keras.models import Sequential\n",
    "from keras.layers import Dense, Dropout, Convolution2D, MaxPooling2D, Flatten\n",
    "from keras.utils import np_utils"
   ]
  },
  {
   "cell_type": "code",
   "execution_count": 9,
   "metadata": {},
   "outputs": [],
   "source": [
    "classifier=Sequential()"
   ]
  },
  {
   "cell_type": "code",
   "execution_count": 10,
   "metadata": {},
   "outputs": [
    {
     "name": "stdout",
     "output_type": "stream",
     "text": [
      "WARNING:tensorflow:From C:\\Users\\habib\\AppData\\Local\\Continuum\\anaconda3\\lib\\site-packages\\tensorflow_core\\python\\ops\\resource_variable_ops.py:1630: calling BaseResourceVariable.__init__ (from tensorflow.python.ops.resource_variable_ops) with constraint is deprecated and will be removed in a future version.\n",
      "Instructions for updating:\n",
      "If using Keras pass *_constraint arguments to layers.\n"
     ]
    }
   ],
   "source": [
    "classifier.add(Convolution2D(32,3,3,input_shape=(64,64,3),activation='relu'))"
   ]
  },
  {
   "cell_type": "code",
   "execution_count": 11,
   "metadata": {},
   "outputs": [
    {
     "name": "stdout",
     "output_type": "stream",
     "text": [
      "WARNING:tensorflow:From C:\\Users\\habib\\AppData\\Local\\Continuum\\anaconda3\\lib\\site-packages\\keras\\backend\\tensorflow_backend.py:4070: The name tf.nn.max_pool is deprecated. Please use tf.nn.max_pool2d instead.\n",
      "\n"
     ]
    }
   ],
   "source": [
    "classifier.add(MaxPooling2D(pool_size=(2,2),strides=2))"
   ]
  },
  {
   "cell_type": "code",
   "execution_count": 12,
   "metadata": {},
   "outputs": [],
   "source": [
    "classifier.add(Convolution2D(32,3,3,activation='relu'))"
   ]
  },
  {
   "cell_type": "code",
   "execution_count": 13,
   "metadata": {},
   "outputs": [],
   "source": [
    "classifier.add(MaxPooling2D(pool_size=(2,2),strides=2))"
   ]
  },
  {
   "cell_type": "code",
   "execution_count": 14,
   "metadata": {},
   "outputs": [],
   "source": [
    "classifier.add(Flatten())"
   ]
  },
  {
   "cell_type": "code",
   "execution_count": 15,
   "metadata": {},
   "outputs": [],
   "source": [
    "classifier.add(Dense(output_dim=128,activation='relu'))"
   ]
  },
  {
   "cell_type": "code",
   "execution_count": 16,
   "metadata": {},
   "outputs": [],
   "source": [
    "classifier.add(Dense(output_dim=1,activation='sigmoid'))"
   ]
  },
  {
   "cell_type": "code",
   "execution_count": 17,
   "metadata": {},
   "outputs": [
    {
     "name": "stdout",
     "output_type": "stream",
     "text": [
      "WARNING:tensorflow:From C:\\Users\\habib\\AppData\\Local\\Continuum\\anaconda3\\lib\\site-packages\\tensorflow_core\\python\\ops\\nn_impl.py:183: where (from tensorflow.python.ops.array_ops) is deprecated and will be removed in a future version.\n",
      "Instructions for updating:\n",
      "Use tf.where in 2.0, which has the same broadcast rule as np.where\n"
     ]
    }
   ],
   "source": [
    "classifier.compile(optimizer='adam',loss='binary_crossentropy',metrics=['accuracy'])"
   ]
  },
  {
   "cell_type": "code",
   "execution_count": 19,
   "metadata": {},
   "outputs": [
    {
     "name": "stdout",
     "output_type": "stream",
     "text": [
      "WARNING:tensorflow:From C:\\Users\\habib\\AppData\\Local\\Continuum\\anaconda3\\lib\\site-packages\\keras\\backend\\tensorflow_backend.py:422: The name tf.global_variables is deprecated. Please use tf.compat.v1.global_variables instead.\n",
      "\n",
      "Epoch 1/30\n",
      "166/166 [==============================] - 30s 182ms/step - loss: 0.5525 - accuracy: 0.7424 - val_loss: 0.7807 - val_accuracy: 0.5068\n",
      "Epoch 2/30\n",
      "166/166 [==============================] - 28s 171ms/step - loss: 0.5057 - accuracy: 0.7600 - val_loss: 0.7129 - val_accuracy: 0.5387\n",
      "Epoch 3/30\n",
      "166/166 [==============================] - 29s 176ms/step - loss: 0.4538 - accuracy: 0.7849 - val_loss: 0.6384 - val_accuracy: 0.6763\n",
      "Epoch 4/30\n",
      "166/166 [==============================] - 31s 184ms/step - loss: 0.4066 - accuracy: 0.8109 - val_loss: 0.5961 - val_accuracy: 0.6262\n",
      "Epoch 5/30\n",
      "166/166 [==============================] - 31s 184ms/step - loss: 0.3603 - accuracy: 0.8341 - val_loss: 0.7556 - val_accuracy: 0.6992\n",
      "Epoch 6/30\n",
      "166/166 [==============================] - 32s 195ms/step - loss: 0.3291 - accuracy: 0.8523 - val_loss: 0.6496 - val_accuracy: 0.6500\n",
      "Epoch 7/30\n",
      "166/166 [==============================] - 35s 211ms/step - loss: 0.2717 - accuracy: 0.8814 - val_loss: 0.4832 - val_accuracy: 0.6967\n",
      "Epoch 8/30\n",
      "166/166 [==============================] - 33s 198ms/step - loss: 0.2157 - accuracy: 0.9126 - val_loss: 0.6411 - val_accuracy: 0.7579\n",
      "Epoch 9/30\n",
      "166/166 [==============================] - 37s 222ms/step - loss: 0.1673 - accuracy: 0.9323 - val_loss: 0.8971 - val_accuracy: 0.6984\n",
      "Epoch 10/30\n",
      "166/166 [==============================] - 36s 219ms/step - loss: 0.1223 - accuracy: 0.9561 - val_loss: 0.6379 - val_accuracy: 0.7562\n",
      "Epoch 11/30\n",
      "166/166 [==============================] - 38s 227ms/step - loss: 0.0928 - accuracy: 0.9682 - val_loss: 1.4665 - val_accuracy: 0.7154\n",
      "Epoch 12/30\n",
      "166/166 [==============================] - 33s 201ms/step - loss: 0.0612 - accuracy: 0.9801 - val_loss: 0.9720 - val_accuracy: 0.7298\n",
      "Epoch 13/30\n",
      "166/166 [==============================] - 36s 214ms/step - loss: 0.0389 - accuracy: 0.9904 - val_loss: 0.3283 - val_accuracy: 0.7341\n",
      "Epoch 14/30\n",
      "166/166 [==============================] - 35s 212ms/step - loss: 0.0268 - accuracy: 0.9945 - val_loss: 1.2544 - val_accuracy: 0.7213\n",
      "Epoch 15/30\n",
      "166/166 [==============================] - 34s 206ms/step - loss: 0.0088 - accuracy: 0.9992 - val_loss: 2.3588 - val_accuracy: 0.7230\n",
      "Epoch 16/30\n",
      "166/166 [==============================] - 32s 191ms/step - loss: 0.0051 - accuracy: 0.9998 - val_loss: 1.9398 - val_accuracy: 0.7383\n",
      "Epoch 17/30\n",
      "166/166 [==============================] - 33s 198ms/step - loss: 0.0023 - accuracy: 1.0000 - val_loss: 2.3774 - val_accuracy: 0.7375\n",
      "Epoch 18/30\n",
      "166/166 [==============================] - 39s 233ms/step - loss: 0.0016 - accuracy: 1.0000 - val_loss: 2.6906 - val_accuracy: 0.7366\n",
      "Epoch 19/30\n",
      "166/166 [==============================] - 34s 205ms/step - loss: 0.0012 - accuracy: 1.0000 - val_loss: 1.3042 - val_accuracy: 0.7069\n",
      "Epoch 20/30\n",
      "166/166 [==============================] - 32s 194ms/step - loss: 8.7339e-04 - accuracy: 1.0000 - val_loss: 2.3822 - val_accuracy: 0.7230\n",
      "Epoch 21/30\n",
      "166/166 [==============================] - 32s 193ms/step - loss: 6.5681e-04 - accuracy: 1.0000 - val_loss: 1.1419 - val_accuracy: 0.7349\n",
      "Epoch 22/30\n",
      "166/166 [==============================] - 34s 203ms/step - loss: 5.7145e-04 - accuracy: 1.0000 - val_loss: 2.6918 - val_accuracy: 0.7239\n",
      "Epoch 23/30\n",
      "166/166 [==============================] - 32s 190ms/step - loss: 4.8665e-04 - accuracy: 1.0000 - val_loss: 1.7055 - val_accuracy: 0.7366\n",
      "Epoch 24/30\n",
      "166/166 [==============================] - 34s 205ms/step - loss: 4.0878e-04 - accuracy: 1.0000 - val_loss: 1.9064 - val_accuracy: 0.7230\n",
      "Epoch 25/30\n",
      "166/166 [==============================] - 33s 198ms/step - loss: 3.5502e-04 - accuracy: 1.0000 - val_loss: 1.6989 - val_accuracy: 0.7281\n",
      "Epoch 26/30\n",
      "166/166 [==============================] - 34s 203ms/step - loss: 2.7857e-04 - accuracy: 1.0000 - val_loss: 4.0746 - val_accuracy: 0.7239\n",
      "Epoch 27/30\n",
      "166/166 [==============================] - 34s 202ms/step - loss: 2.5724e-04 - accuracy: 1.0000 - val_loss: 2.4303 - val_accuracy: 0.7315\n",
      "Epoch 28/30\n",
      "166/166 [==============================] - 31s 186ms/step - loss: 2.2806e-04 - accuracy: 1.0000 - val_loss: 1.4675 - val_accuracy: 0.7196\n",
      "Epoch 29/30\n",
      "166/166 [==============================] - 32s 193ms/step - loss: 1.9295e-04 - accuracy: 1.0000 - val_loss: 1.0755 - val_accuracy: 0.7298\n",
      "Epoch 30/30\n",
      "166/166 [==============================] - 31s 190ms/step - loss: 1.7732e-04 - accuracy: 1.0000 - val_loss: 2.0942 - val_accuracy: 0.7239\n"
     ]
    },
    {
     "data": {
      "text/plain": [
       "<keras.callbacks.callbacks.History at 0x17890543c08>"
      ]
     },
     "execution_count": 19,
     "metadata": {},
     "output_type": "execute_result"
    }
   ],
   "source": [
    "classifier.fit_generator(training_set,steps_per_epoch=166,epochs=20,validation_data=validation_set,validation_steps=37)"
   ]
  },
  {
   "cell_type": "code",
   "execution_count": null,
   "metadata": {},
   "outputs": [],
   "source": [
    "classifier.summary()"
   ]
  },
  {
   "cell_type": "code",
   "execution_count": null,
   "metadata": {},
   "outputs": [],
   "source": [
    "pip install pydot"
   ]
  },
  {
   "cell_type": "code",
   "execution_count": null,
   "metadata": {},
   "outputs": [],
   "source": []
  }
 ],
 "metadata": {
  "kernelspec": {
   "display_name": "myenv",
   "language": "python",
   "name": "myenv"
  },
  "language_info": {
   "codemirror_mode": {
    "name": "ipython",
    "version": 3
   },
   "file_extension": ".py",
   "mimetype": "text/x-python",
   "name": "python",
   "nbconvert_exporter": "python",
   "pygments_lexer": "ipython3",
   "version": "3.7.4"
  }
 },
 "nbformat": 4,
 "nbformat_minor": 2
}
