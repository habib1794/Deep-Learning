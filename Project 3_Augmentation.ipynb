{
 "cells": [
  {
   "cell_type": "code",
   "execution_count": 16,
   "metadata": {},
   "outputs": [],
   "source": [
    "import cv2 as cv\n",
    "import os"
   ]
  },
  {
   "cell_type": "code",
   "execution_count": 17,
   "metadata": {},
   "outputs": [],
   "source": [
    "import random\n",
    "from scipy import ndarray\n",
    "import skimage as sk\n",
    "from skimage import transform\n",
    "from skimage import util"
   ]
  },
  {
   "cell_type": "code",
   "execution_count": 18,
   "metadata": {},
   "outputs": [],
   "source": [
    "from os import listdir\n",
    "from os.path import isfile, join\n",
    "import numpy\n",
    "import cv2\n",
    "\n",
    "mypath=['Project1/training/Sarees','Project1/training/Jeans','Project1/training/Trousers','Project1/validation/Trousers','Project1/validation/Jeans','Project1/validation/Sarees']\n",
    "for i, path in enumerate(mypath):\n",
    "    onlyfiles[i]= [f for f in listdir(path) if isfile(join(path,f))]\n",
    "    images = numpy.empty(len(onlyfiles[i]), dtype=object)\n",
    "    for n in range(0, len(onlyfiles[i])):\n",
    "        images[n] = cv2.imread( join(path,onlyfiles[i][n]) )\n",
    "        w = images[n].shape[0]\n",
    "        h = images[n].shape[1]\n",
    "        \n",
    "        random_degree = random.uniform(-25,25)\n",
    "        Rotation_Matrix=cv2.getRotationMatrix2D((w/2,h/2),random_degree,0.9)\n",
    "        Rotated_image=cv2.warpAffine(images[n],Rotation_Matrix,(w,h))\n",
    "        \n",
    "        substring = \"validation\"\n",
    "        if substring in path:\n",
    "            cv2.imwrite(\"Project1/validation/augmented images/rot_img.{1}{0}.jpeg\".format(n,i),Rotated_image)\n",
    "        else:\n",
    "            cv2.imwrite(\"Project1/training/augmented images/rot_img.{1}{0}.jpeg\".format(n,i),Rotated_image)\n",
    "        "
   ]
  },
  {
   "cell_type": "code",
   "execution_count": 19,
   "metadata": {},
   "outputs": [],
   "source": [
    "from os import listdir\n",
    "from os.path import isfile, join\n",
    "import numpy\n",
    "import cv2\n",
    "mypath=['Project1/training/Sarees','Project1/training/Jeans','Project1/training/Trousers','Project1/validation/Trousers','Project1/validation/Jeans','Project1/validation/Sarees']\n",
    "for i, path in enumerate(mypath):\n",
    "    onlyfiles[i] = [ f for f in listdir(path) if isfile(join(path,f)) ]\n",
    "    images = numpy.empty(len(onlyfiles[i]), dtype=object)\n",
    "    for n in range(0, len(onlyfiles[i])):\n",
    "        images[n] = cv2.imread( join(path,onlyfiles[i][n]) )\n",
    "        w = images[n].shape[0]\n",
    "        h = images[n].shape[1]\n",
    "        \n",
    "        \n",
    "        flipped_image=cv2.flip(images[n],1)\n",
    "        substring = \"validation\"\n",
    "        if substring in path:\n",
    "            cv2.imwrite(\"Project1/validation/augmented images/flip_img.{1}{0}.jpeg\".format(n,i),flipped_image)\n",
    "        else:\n",
    "            cv2.imwrite(\"Project1/training/augmented images/flip_img.{1}{0}.jpeg\".format(n,i),flipped_image)"
   ]
  },
  {
   "cell_type": "code",
   "execution_count": 20,
   "metadata": {},
   "outputs": [],
   "source": [
    "from os.path import isfile, join\n",
    "import numpy as np\n",
    "import cv2\n",
    "mypath=['Project1/training/Sarees','Project1/training/Jeans','Project1/training/Trousers','Project1/validation/Trousers','Project1/validation/Jeans','Project1/validation/Sarees']\n",
    "for i, path in enumerate(mypath):\n",
    "    onlyfiles[i] = [ f for f in listdir(path) if isfile(join(path,f)) ]\n",
    "    images = np.empty(len(onlyfiles[i]), dtype=object)\n",
    "    for n in range(0, len(onlyfiles[i])):\n",
    "        images[n] = cv2.imread( join(path,onlyfiles[i][n]) )\n",
    "        w = images[n].shape[0]\n",
    "        h = images[n].shape[1]\n",
    "        \n",
    "        \n",
    "        brightness=np.ones(images[n].shape,dtype=\"uint8\")*75\n",
    "        bright_image=cv2.add(images[n],brightness)\n",
    "        substring = \"validation\"\n",
    "        if substring in path:\n",
    "            cv2.imwrite(\"Project1/validation/augmented images/Ibright_img.{1}{0}.jpeg\".format(n,i),bright_image)\n",
    "        else:\n",
    "            cv2.imwrite(\"Project1/training/augmented images/Ibright_img.{1}{0}.jpeg\".format(n,i),bright_image)"
   ]
  },
  {
   "cell_type": "code",
   "execution_count": 21,
   "metadata": {},
   "outputs": [],
   "source": [
    "from os.path import isfile, join\n",
    "import numpy\n",
    "import cv2\n",
    "mypath=['Project1/training/Sarees','Project1/training/Jeans','Project1/training/Trousers','Project1/validation/Trousers','Project1/validation/Jeans','Project1/validation/Sarees']\n",
    "for i, path in enumerate(mypath):\n",
    "    onlyfiles[i] = [ f for f in listdir(path) if isfile(join(path,f)) ]\n",
    "    images = numpy.empty(len(onlyfiles[i]), dtype=object)\n",
    "    for n in range(0, len(onlyfiles[i])):\n",
    "        images[n] = cv2.imread( join(path,onlyfiles[i][n]) )\n",
    "        w = images[n].shape[0]\n",
    "        h = images[n].shape[1]\n",
    "        \n",
    "        \n",
    "        brightness_d=np.ones(images[n].shape,dtype=\"uint8\")*75\n",
    "        bright_images=cv2.subtract(images[n],brightness_d)\n",
    "        substring = \"validation\"\n",
    "        if substring in path:\n",
    "            cv2.imwrite(\"Project1/validation/augmented images/Dbright_img.{1}{0}.jpeg\".format(n,i),bright_images)\n",
    "        else:\n",
    "            cv2.imwrite(\"Project1/training/augmented images/Dbright_img.{1}{0}.jpeg\".format(n,i),bright_images)"
   ]
  },
  {
   "cell_type": "code",
   "execution_count": 22,
   "metadata": {},
   "outputs": [],
   "source": [
    "from os.path import isfile, join\n",
    "import numpy as np\n",
    "import cv2\n",
    "mypath=['Project1/training/Sarees','Project1/training/Jeans','Project1/training/Trousers','Project1/validation/Trousers','Project1/validation/Jeans','Project1/validation/Sarees']\n",
    "for i, path in enumerate(mypath):\n",
    "    onlyfiles[i] = [ f for f in listdir(path) if isfile(join(path,f)) ]\n",
    "    images = np.empty(len(onlyfiles[i]), dtype=object)\n",
    "    for n in range(0, len(onlyfiles[i])):\n",
    "        images[n] = cv2.imread( join(path,onlyfiles[i][n]) )\n",
    "        kernel_sharpening=np.array([[-1,-1,-1],[-1,10,-1],[-1,-1,-1]])\n",
    "        sharpened_image=cv2.filter2D(images[n],-1,kernel_sharpening)\n",
    "        \n",
    "        substring = \"validation\"\n",
    "        if substring in path:\n",
    "            cv2.imwrite(\"Project1/validation/augmented images/sharpened_img.{1}{0}.jpeg\".format(n,i),sharpened_image)\n",
    "        else:\n",
    "            cv2.imwrite(\"Project1/training/augmented images/sharpened_img.{1}{0}.jpeg\".format(n,i),sharpened_image)"
   ]
  },
  {
   "cell_type": "code",
   "execution_count": null,
   "metadata": {},
   "outputs": [],
   "source": []
  }
 ],
 "metadata": {
  "kernelspec": {
   "display_name": "myenv",
   "language": "python",
   "name": "myenv"
  },
  "language_info": {
   "codemirror_mode": {
    "name": "ipython",
    "version": 3
   },
   "file_extension": ".py",
   "mimetype": "text/x-python",
   "name": "python",
   "nbconvert_exporter": "python",
   "pygments_lexer": "ipython3",
   "version": "3.7.4"
  }
 },
 "nbformat": 4,
 "nbformat_minor": 2
}
