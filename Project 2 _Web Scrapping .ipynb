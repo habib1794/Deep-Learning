{
 "cells": [
  {
   "cell_type": "code",
   "execution_count": 1,
   "metadata": {},
   "outputs": [],
   "source": [
    "from selenium import webdriver\n",
    "import os"
   ]
  },
  {
   "cell_type": "code",
   "execution_count": 2,
   "metadata": {},
   "outputs": [],
   "source": [
    "driver=webdriver.Chrome(executable_path='chromedriver.exe')"
   ]
  },
  {
   "cell_type": "code",
   "execution_count": 3,
   "metadata": {},
   "outputs": [],
   "source": [
    "my_page=driver.get('https://www.flipkart.com/search?q=sarees&otracker=search&otracker1=search&marketplace=FLIPKART&as-show=on&as=off')"
   ]
  },
  {
   "cell_type": "code",
   "execution_count": 4,
   "metadata": {},
   "outputs": [],
   "source": [
    "def make_directory(dirname):\n",
    "    current_path=os.getcwd()\n",
    "    path=os.path.join(current_path,dirname)\n",
    "    if not os.path.exists(path):\n",
    "        os.makedirs(path)"
   ]
  },
  {
   "cell_type": "code",
   "execution_count": 5,
   "metadata": {},
   "outputs": [],
   "source": [
    "make_directory(\"Project1/training/Sarees\")\n",
    "make_directory(\"Project1/training/augmented images\")"
   ]
  },
  {
   "cell_type": "code",
   "execution_count": 6,
   "metadata": {
    "scrolled": true
   },
   "outputs": [
    {
     "data": {
      "text/plain": [
       "'C:\\\\Users\\\\habib'"
      ]
     },
     "execution_count": 6,
     "metadata": {},
     "output_type": "execute_result"
    }
   ],
   "source": [
    "os.getcwd()"
   ]
  },
  {
   "cell_type": "code",
   "execution_count": 7,
   "metadata": {},
   "outputs": [
    {
     "name": "stdout",
     "output_type": "stream",
     "text": [
      "<selenium.webdriver.remote.webelement.WebElement (session=\"caf9bbfbedd2610eb42a0fd8ee079b14\", element=\"5b674d2c-a1c6-4c93-b0c4-de3584b2a21d\")>\n"
     ]
    }
   ],
   "source": [
    "images=driver.find_elements_by_xpath(\"//img[@class='_3togXc']\")\n",
    "print(images[0])"
   ]
  },
  {
   "cell_type": "code",
   "execution_count": 8,
   "metadata": {},
   "outputs": [
    {
     "data": {
      "text/plain": [
       "40"
      ]
     },
     "execution_count": 8,
     "metadata": {},
     "output_type": "execute_result"
    }
   ],
   "source": [
    "len(images)"
   ]
  },
  {
   "cell_type": "code",
   "execution_count": 9,
   "metadata": {},
   "outputs": [],
   "source": [
    "urls=[]\n",
    "for image in images:\n",
    "    source=image.get_attribute('src')\n",
    "    urls.append(source)\n",
    "    \n",
    "    \n",
    "    \n"
   ]
  },
  {
   "cell_type": "code",
   "execution_count": 10,
   "metadata": {},
   "outputs": [],
   "source": [
    "import shutil\n",
    "import requests"
   ]
  },
  {
   "cell_type": "code",
   "execution_count": 11,
   "metadata": {},
   "outputs": [
    {
     "name": "stdout",
     "output_type": "stream",
     "text": [
      "Downloading 1 of 40\n",
      "Downloading 2 of 40\n",
      "Downloading 3 of 40\n",
      "Downloading 4 of 40\n",
      "Downloading 5 of 40\n",
      "Downloading 6 of 40\n",
      "Downloading 7 of 40\n",
      "Downloading 8 of 40\n",
      "Downloading 9 of 40\n",
      "Downloading 10 of 40\n",
      "Downloading 11 of 40\n",
      "Downloading 12 of 40\n",
      "Downloading 13 of 40\n",
      "Downloading 14 of 40\n",
      "Downloading 15 of 40\n",
      "Downloading 16 of 40\n",
      "Downloading 17 of 40\n",
      "Downloading 18 of 40\n",
      "Downloading 19 of 40\n",
      "Downloading 20 of 40\n",
      "Downloading 21 of 40\n",
      "Downloading 22 of 40\n",
      "Downloading 23 of 40\n",
      "Downloading 24 of 40\n",
      "Downloading 25 of 40\n",
      "Downloading 26 of 40\n",
      "Downloading 27 of 40\n",
      "Downloading 28 of 40\n",
      "Downloading 29 of 40\n",
      "Downloading 30 of 40\n",
      "Downloading 31 of 40\n",
      "Downloading 32 of 40\n",
      "Downloading 33 of 40\n",
      "Downloading 34 of 40\n",
      "Downloading 35 of 40\n",
      "Downloading 36 of 40\n",
      "Downloading 37 of 40\n",
      "Downloading 38 of 40\n",
      "Downloading 39 of 40\n",
      "Downloading 40 of 40\n"
     ]
    }
   ],
   "source": [
    "for index,link in enumerate(urls):\n",
    "    print(\"Downloading {0} of {1}\".format(index+1,len(urls)))\n",
    "    response=requests.get(link)\n",
    "    with open('Project1/training/Sarees/sarees.{0}.jpeg'.format(index),\"wb\") as file:\n",
    "        file.write(response.content)"
   ]
  },
  {
   "cell_type": "code",
   "execution_count": 12,
   "metadata": {},
   "outputs": [],
   "source": [
    "my_page=driver.get('https://www.flipkart.com/search?q=sarees&otracker=search&otracker1=search&marketplace=FLIPKART&as-show=on&as=off&page=2')"
   ]
  },
  {
   "cell_type": "code",
   "execution_count": 13,
   "metadata": {},
   "outputs": [],
   "source": [
    "make_directory(\"{Project1/training/Sarees\")"
   ]
  },
  {
   "cell_type": "code",
   "execution_count": 14,
   "metadata": {},
   "outputs": [
    {
     "name": "stdout",
     "output_type": "stream",
     "text": [
      "<selenium.webdriver.remote.webelement.WebElement (session=\"caf9bbfbedd2610eb42a0fd8ee079b14\", element=\"40afc143-0725-4730-a047-8a0d32bb7a87\")>\n"
     ]
    }
   ],
   "source": [
    "images=driver.find_elements_by_xpath(\"//img[@class='_3togXc']\")\n",
    "print(images[0])"
   ]
  },
  {
   "cell_type": "code",
   "execution_count": 15,
   "metadata": {},
   "outputs": [],
   "source": [
    "urls=[]\n",
    "for image in images:\n",
    "    source=image.get_attribute('src')\n",
    "    urls.append(source)\n",
    "    \n",
    "    "
   ]
  },
  {
   "cell_type": "code",
   "execution_count": 16,
   "metadata": {},
   "outputs": [
    {
     "name": "stdout",
     "output_type": "stream",
     "text": [
      "Downloading 41 of 80\n",
      "Downloading 42 of 80\n",
      "Downloading 43 of 80\n",
      "Downloading 44 of 80\n",
      "Downloading 45 of 80\n",
      "Downloading 46 of 80\n",
      "Downloading 47 of 80\n",
      "Downloading 48 of 80\n",
      "Downloading 49 of 80\n",
      "Downloading 50 of 80\n",
      "Downloading 51 of 80\n",
      "Downloading 52 of 80\n",
      "Downloading 53 of 80\n",
      "Downloading 54 of 80\n",
      "Downloading 55 of 80\n",
      "Downloading 56 of 80\n",
      "Downloading 57 of 80\n",
      "Downloading 58 of 80\n",
      "Downloading 59 of 80\n",
      "Downloading 60 of 80\n",
      "Downloading 61 of 80\n",
      "Downloading 62 of 80\n",
      "Downloading 63 of 80\n",
      "Downloading 64 of 80\n",
      "Downloading 65 of 80\n",
      "Downloading 66 of 80\n",
      "Downloading 67 of 80\n",
      "Downloading 68 of 80\n",
      "Downloading 69 of 80\n",
      "Downloading 70 of 80\n",
      "Downloading 71 of 80\n",
      "Downloading 72 of 80\n",
      "Downloading 73 of 80\n",
      "Downloading 74 of 80\n",
      "Downloading 75 of 80\n",
      "Downloading 76 of 80\n",
      "Downloading 77 of 80\n",
      "Downloading 78 of 80\n",
      "Downloading 79 of 80\n",
      "Downloading 80 of 80\n"
     ]
    }
   ],
   "source": [
    "for index,link in enumerate(urls):\n",
    "    if index<20:\n",
    "        print(\"Downloading {0} of {1}\".format(index+41,len(urls)+40))\n",
    "        response=requests.get(link)\n",
    "        with open('Project1/training/Sarees/sarees.{0}.jpeg'.format(index+41),\"wb\") as file:\n",
    "            file.write(response.content)\n",
    "    else:\n",
    "        print(\"Downloading {0} of {1}\".format(index+41,len(urls)+40))\n",
    "        response=requests.get(link)\n",
    "        with open('Project1/validation/Sarees/sarees.{0}.jpeg'.format(index+41),\"wb\") as file:\n",
    "            file.write(response.content)"
   ]
  },
  {
   "cell_type": "code",
   "execution_count": 17,
   "metadata": {},
   "outputs": [],
   "source": [
    "my_page=driver.get('https://www.flipkart.com/search?q=sarees&otracker=search&otracker1=search&marketplace=FLIPKART&as-show=on&as=off&page=3')"
   ]
  },
  {
   "cell_type": "code",
   "execution_count": 18,
   "metadata": {},
   "outputs": [
    {
     "data": {
      "text/plain": [
       "'C:\\\\Users\\\\habib'"
      ]
     },
     "execution_count": 18,
     "metadata": {},
     "output_type": "execute_result"
    }
   ],
   "source": [
    "os.getcwd()"
   ]
  },
  {
   "cell_type": "code",
   "execution_count": 19,
   "metadata": {},
   "outputs": [],
   "source": [
    "make_directory('Project1/test/Sarees')"
   ]
  },
  {
   "cell_type": "code",
   "execution_count": 20,
   "metadata": {},
   "outputs": [
    {
     "name": "stdout",
     "output_type": "stream",
     "text": [
      "<selenium.webdriver.remote.webelement.WebElement (session=\"caf9bbfbedd2610eb42a0fd8ee079b14\", element=\"4452ce56-f144-4b3c-950e-781397109e3f\")>\n"
     ]
    }
   ],
   "source": [
    "images=driver.find_elements_by_xpath(\"//img[@class='_3togXc']\")\n",
    "print(images[0])"
   ]
  },
  {
   "cell_type": "code",
   "execution_count": 21,
   "metadata": {},
   "outputs": [
    {
     "data": {
      "text/plain": [
       "40"
      ]
     },
     "execution_count": 21,
     "metadata": {},
     "output_type": "execute_result"
    }
   ],
   "source": [
    "len(images)"
   ]
  },
  {
   "cell_type": "code",
   "execution_count": 22,
   "metadata": {},
   "outputs": [],
   "source": [
    "urls=[]\n",
    "i=0\n",
    "for image in images:\n",
    "    if i<20:\n",
    "        source=image.get_attribute('src')\n",
    "        urls.append(source)\n",
    "        i=i+1\n",
    "    else:\n",
    "        break\n",
    "\n",
    "    \n",
    "    "
   ]
  },
  {
   "cell_type": "code",
   "execution_count": 23,
   "metadata": {},
   "outputs": [
    {
     "name": "stdout",
     "output_type": "stream",
     "text": [
      "Downloading 1 of 20\n",
      "Downloading 2 of 20\n",
      "Downloading 3 of 20\n",
      "Downloading 4 of 20\n",
      "Downloading 5 of 20\n",
      "Downloading 6 of 20\n",
      "Downloading 7 of 20\n",
      "Downloading 8 of 20\n",
      "Downloading 9 of 20\n",
      "Downloading 10 of 20\n",
      "Downloading 11 of 20\n",
      "Downloading 12 of 20\n",
      "Downloading 13 of 20\n",
      "Downloading 14 of 20\n",
      "Downloading 15 of 20\n",
      "Downloading 16 of 20\n",
      "Downloading 17 of 20\n",
      "Downloading 18 of 20\n",
      "Downloading 19 of 20\n",
      "Downloading 20 of 20\n"
     ]
    }
   ],
   "source": [
    "for index,link in enumerate(urls):\n",
    "    print(\"Downloading {0} of {1}\".format(index+1,len(urls)))\n",
    "    response=requests.get(link)\n",
    "    with open('Project1/test/Sarees/sarees.{0}.jpeg'.format(index+1),\"wb\") as file:\n",
    "        file.write(response.content)"
   ]
  },
  {
   "cell_type": "code",
   "execution_count": 24,
   "metadata": {},
   "outputs": [],
   "source": [
    "my_page=driver.get('https://www.flipkart.com/search?q=trouser&otracker=search&otracker1=search&marketplace=FLIPKART&as-show=on&as=off')"
   ]
  },
  {
   "cell_type": "code",
   "execution_count": 25,
   "metadata": {},
   "outputs": [],
   "source": [
    "make_directory(\"Project1/training/Trousers\")"
   ]
  },
  {
   "cell_type": "code",
   "execution_count": 26,
   "metadata": {},
   "outputs": [
    {
     "name": "stdout",
     "output_type": "stream",
     "text": [
      "<selenium.webdriver.remote.webelement.WebElement (session=\"caf9bbfbedd2610eb42a0fd8ee079b14\", element=\"354ccde8-6db9-4352-be19-93ae1293bdc4\")>\n"
     ]
    }
   ],
   "source": [
    "images=driver.find_elements_by_xpath(\"//img[@class='_3togXc']\")\n",
    "print(images[0])"
   ]
  },
  {
   "cell_type": "code",
   "execution_count": 27,
   "metadata": {},
   "outputs": [],
   "source": [
    "urls=[]\n",
    "for image in images:\n",
    "    source=image.get_attribute('src')\n",
    "    urls.append(source)\n",
    "    "
   ]
  },
  {
   "cell_type": "code",
   "execution_count": 28,
   "metadata": {},
   "outputs": [
    {
     "name": "stdout",
     "output_type": "stream",
     "text": [
      "Downloading 1 of 40\n",
      "Downloading 2 of 40\n",
      "Downloading 3 of 40\n",
      "Downloading 4 of 40\n",
      "Downloading 5 of 40\n",
      "Downloading 6 of 40\n",
      "Downloading 7 of 40\n",
      "Downloading 8 of 40\n",
      "Downloading 9 of 40\n",
      "Downloading 10 of 40\n",
      "Downloading 11 of 40\n",
      "Downloading 12 of 40\n",
      "Downloading 13 of 40\n",
      "Downloading 14 of 40\n",
      "Downloading 15 of 40\n",
      "Downloading 16 of 40\n",
      "Downloading 17 of 40\n",
      "Downloading 18 of 40\n",
      "Downloading 19 of 40\n",
      "Downloading 20 of 40\n",
      "Downloading 21 of 40\n",
      "Downloading 22 of 40\n",
      "Downloading 23 of 40\n",
      "Downloading 24 of 40\n",
      "Downloading 25 of 40\n",
      "Downloading 26 of 40\n",
      "Downloading 27 of 40\n",
      "Downloading 28 of 40\n",
      "Downloading 29 of 40\n",
      "Downloading 30 of 40\n",
      "Downloading 31 of 40\n",
      "Downloading 32 of 40\n",
      "Downloading 33 of 40\n",
      "Downloading 34 of 40\n",
      "Downloading 35 of 40\n",
      "Downloading 36 of 40\n",
      "Downloading 37 of 40\n",
      "Downloading 38 of 40\n",
      "Downloading 39 of 40\n",
      "Downloading 40 of 40\n"
     ]
    }
   ],
   "source": [
    "for index,link in enumerate(urls):\n",
    "    print(\"Downloading {0} of {1}\".format(index+1,len(urls)))\n",
    "    response=requests.get(link)\n",
    "    with open('Project1/training/Trousers/Trousers.{0}.jpeg'.format(index+1),\"wb\") as file:\n",
    "        file.write(response.content)"
   ]
  },
  {
   "cell_type": "code",
   "execution_count": 29,
   "metadata": {},
   "outputs": [],
   "source": [
    "\n",
    "my_page=driver.get('https://www.flipkart.com/search?q=trouser&otracker=search&otracker1=search&marketplace=FLIPKART&as-show=on&as=off&page=2')"
   ]
  },
  {
   "cell_type": "code",
   "execution_count": 30,
   "metadata": {},
   "outputs": [
    {
     "name": "stdout",
     "output_type": "stream",
     "text": [
      "<selenium.webdriver.remote.webelement.WebElement (session=\"caf9bbfbedd2610eb42a0fd8ee079b14\", element=\"bc51b0c3-361c-4137-a171-9c4610468f9a\")>\n"
     ]
    }
   ],
   "source": [
    "images=driver.find_elements_by_xpath(\"//img[@class='_3togXc']\")\n",
    "print(images[0])"
   ]
  },
  {
   "cell_type": "code",
   "execution_count": 31,
   "metadata": {},
   "outputs": [],
   "source": [
    "urls=[]\n",
    "for image in images:\n",
    "    source=image.get_attribute('src')\n",
    "    urls.append(source)\n",
    "    "
   ]
  },
  {
   "cell_type": "code",
   "execution_count": 32,
   "metadata": {},
   "outputs": [
    {
     "name": "stdout",
     "output_type": "stream",
     "text": [
      "Downloading 41 of 80\n",
      "Downloading 42 of 80\n",
      "Downloading 43 of 80\n",
      "Downloading 44 of 80\n",
      "Downloading 45 of 80\n",
      "Downloading 46 of 80\n",
      "Downloading 47 of 80\n",
      "Downloading 48 of 80\n",
      "Downloading 49 of 80\n",
      "Downloading 50 of 80\n",
      "Downloading 51 of 80\n",
      "Downloading 52 of 80\n",
      "Downloading 53 of 80\n",
      "Downloading 54 of 80\n",
      "Downloading 55 of 80\n",
      "Downloading 56 of 80\n",
      "Downloading 57 of 80\n",
      "Downloading 58 of 80\n",
      "Downloading 59 of 80\n",
      "Downloading 60 of 80\n",
      "Downloading 61 of 80\n",
      "Downloading 62 of 80\n",
      "Downloading 63 of 80\n",
      "Downloading 64 of 80\n",
      "Downloading 65 of 80\n",
      "Downloading 66 of 80\n",
      "Downloading 67 of 80\n",
      "Downloading 68 of 80\n",
      "Downloading 69 of 80\n",
      "Downloading 70 of 80\n",
      "Downloading 71 of 80\n",
      "Downloading 72 of 80\n",
      "Downloading 73 of 80\n",
      "Downloading 74 of 80\n",
      "Downloading 75 of 80\n",
      "Downloading 76 of 80\n",
      "Downloading 77 of 80\n",
      "Downloading 78 of 80\n",
      "Downloading 79 of 80\n",
      "Downloading 80 of 80\n"
     ]
    }
   ],
   "source": [
    "for index,link in enumerate(urls):\n",
    "    if index<20:\n",
    "        print(\"Downloading {0} of {1}\".format(index+41,len(urls)+40))\n",
    "        response=requests.get(link)\n",
    "        with open('Project1/training/Trousers/Trousers.{0}.jpeg'.format(index+41),\"wb\") as file:\n",
    "            file.write(response.content)\n",
    "    else:\n",
    "        print(\"Downloading {0} of {1}\".format(index+41,len(urls)+40))\n",
    "        response=requests.get(link)\n",
    "        with open('Project1/validation/Trousers/Trousers.{0}.jpeg'.format(index+41),\"wb\") as file:\n",
    "            file.write(response.content)"
   ]
  },
  {
   "cell_type": "code",
   "execution_count": 33,
   "metadata": {},
   "outputs": [],
   "source": [
    "\n",
    "my_page=driver.get('https://www.flipkart.com/search?q=trouser&otracker=search&otracker1=search&marketplace=FLIPKART&as-show=on&as=off&page=3')"
   ]
  },
  {
   "cell_type": "code",
   "execution_count": 34,
   "metadata": {},
   "outputs": [],
   "source": [
    "make_directory('Project1/test/Trousers')\n",
    "make_directory(\"Project1/training/augmented images\")"
   ]
  },
  {
   "cell_type": "code",
   "execution_count": 35,
   "metadata": {},
   "outputs": [
    {
     "name": "stdout",
     "output_type": "stream",
     "text": [
      "<selenium.webdriver.remote.webelement.WebElement (session=\"caf9bbfbedd2610eb42a0fd8ee079b14\", element=\"6879171f-d48b-419c-bdbc-e5b27f04e7f6\")>\n"
     ]
    }
   ],
   "source": [
    "images=driver.find_elements_by_xpath(\"//img[@class='_3togXc']\")\n",
    "print(images[0])"
   ]
  },
  {
   "cell_type": "code",
   "execution_count": 36,
   "metadata": {},
   "outputs": [],
   "source": [
    "urls=[]\n",
    "i=0\n",
    "for image in images:\n",
    "    if i<20:\n",
    "        source=image.get_attribute('src')\n",
    "        urls.append(source)\n",
    "        i=i+1\n",
    "    else:\n",
    "        break\n"
   ]
  },
  {
   "cell_type": "code",
   "execution_count": 37,
   "metadata": {},
   "outputs": [
    {
     "name": "stdout",
     "output_type": "stream",
     "text": [
      "Downloading 1 of 20\n",
      "Downloading 2 of 20\n",
      "Downloading 3 of 20\n",
      "Downloading 4 of 20\n",
      "Downloading 5 of 20\n",
      "Downloading 6 of 20\n",
      "Downloading 7 of 20\n",
      "Downloading 8 of 20\n",
      "Downloading 9 of 20\n",
      "Downloading 10 of 20\n",
      "Downloading 11 of 20\n",
      "Downloading 12 of 20\n",
      "Downloading 13 of 20\n",
      "Downloading 14 of 20\n",
      "Downloading 15 of 20\n",
      "Downloading 16 of 20\n",
      "Downloading 17 of 20\n",
      "Downloading 18 of 20\n",
      "Downloading 19 of 20\n",
      "Downloading 20 of 20\n"
     ]
    }
   ],
   "source": [
    "for index,link in enumerate(urls):\n",
    "    print(\"Downloading {0} of {1}\".format(index+1,len(urls)))\n",
    "    response=requests.get(link)\n",
    "    with open('Project1/test/Trousers/Trousers.{0}.jpeg'.format(index+1),\"wb\") as file:\n",
    "        file.write(response.content)"
   ]
  },
  {
   "cell_type": "code",
   "execution_count": 38,
   "metadata": {},
   "outputs": [],
   "source": [
    "my_page=driver.get('https://www.flipkart.com/search?q=jeans&otracker=search&otracker1=search&marketplace=FLIPKART&as-show=on&as=off')"
   ]
  },
  {
   "cell_type": "code",
   "execution_count": 39,
   "metadata": {},
   "outputs": [],
   "source": [
    "make_directory('Project1/training/Jeans')"
   ]
  },
  {
   "cell_type": "code",
   "execution_count": 40,
   "metadata": {},
   "outputs": [
    {
     "name": "stdout",
     "output_type": "stream",
     "text": [
      "<selenium.webdriver.remote.webelement.WebElement (session=\"caf9bbfbedd2610eb42a0fd8ee079b14\", element=\"a1e1d320-f953-40d7-95c8-ab4cf3b2b97d\")>\n"
     ]
    }
   ],
   "source": [
    "images=driver.find_elements_by_xpath(\"//img[@class='_3togXc']\")\n",
    "print(images[0])"
   ]
  },
  {
   "cell_type": "code",
   "execution_count": 41,
   "metadata": {},
   "outputs": [],
   "source": [
    "urls=[]\n",
    "for image in images:\n",
    "    source=image.get_attribute('src')\n",
    "    urls.append(source)\n",
    "    "
   ]
  },
  {
   "cell_type": "code",
   "execution_count": 42,
   "metadata": {},
   "outputs": [
    {
     "name": "stdout",
     "output_type": "stream",
     "text": [
      "Downloading 1 of 40\n",
      "Downloading 2 of 40\n",
      "Downloading 3 of 40\n",
      "Downloading 4 of 40\n",
      "Downloading 5 of 40\n",
      "Downloading 6 of 40\n",
      "Downloading 7 of 40\n",
      "Downloading 8 of 40\n",
      "Downloading 9 of 40\n",
      "Downloading 10 of 40\n",
      "Downloading 11 of 40\n",
      "Downloading 12 of 40\n",
      "Downloading 13 of 40\n",
      "Downloading 14 of 40\n",
      "Downloading 15 of 40\n",
      "Downloading 16 of 40\n",
      "Downloading 17 of 40\n",
      "Downloading 18 of 40\n",
      "Downloading 19 of 40\n",
      "Downloading 20 of 40\n",
      "Downloading 21 of 40\n",
      "Downloading 22 of 40\n",
      "Downloading 23 of 40\n",
      "Downloading 24 of 40\n",
      "Downloading 25 of 40\n",
      "Downloading 26 of 40\n",
      "Downloading 27 of 40\n",
      "Downloading 28 of 40\n",
      "Downloading 29 of 40\n",
      "Downloading 30 of 40\n",
      "Downloading 31 of 40\n",
      "Downloading 32 of 40\n",
      "Downloading 33 of 40\n",
      "Downloading 34 of 40\n",
      "Downloading 35 of 40\n",
      "Downloading 36 of 40\n",
      "Downloading 37 of 40\n",
      "Downloading 38 of 40\n",
      "Downloading 39 of 40\n",
      "Downloading 40 of 40\n"
     ]
    }
   ],
   "source": [
    "for index,link in enumerate(urls):\n",
    "    print(\"Downloading {0} of {1}\".format(index+1,len(urls)))\n",
    "    response=requests.get(link)\n",
    "    with open('Project1/training/Jeans/Jeans.{0}.jpeg'.format(index+1),\"wb\") as file:\n",
    "        file.write(response.content)"
   ]
  },
  {
   "cell_type": "code",
   "execution_count": 43,
   "metadata": {},
   "outputs": [],
   "source": [
    "my_page=driver.get('https://www.flipkart.com/search?q=jeans&otracker=search&otracker1=search&marketplace=FLIPKART&as-show=on&as=off&page=2')"
   ]
  },
  {
   "cell_type": "code",
   "execution_count": 44,
   "metadata": {},
   "outputs": [
    {
     "name": "stdout",
     "output_type": "stream",
     "text": [
      "<selenium.webdriver.remote.webelement.WebElement (session=\"caf9bbfbedd2610eb42a0fd8ee079b14\", element=\"f855be1a-831e-42fd-a16d-e1d311ce5465\")>\n"
     ]
    }
   ],
   "source": [
    "images=driver.find_elements_by_xpath(\"//img[@class='_3togXc']\")\n",
    "print(images[0])"
   ]
  },
  {
   "cell_type": "code",
   "execution_count": 45,
   "metadata": {},
   "outputs": [],
   "source": [
    "urls=[]\n",
    "for image in images:\n",
    "    source=image.get_attribute('src')\n",
    "    urls.append(source)"
   ]
  },
  {
   "cell_type": "code",
   "execution_count": 46,
   "metadata": {},
   "outputs": [
    {
     "name": "stdout",
     "output_type": "stream",
     "text": [
      "Downloading 41 of 80\n",
      "Downloading 42 of 80\n",
      "Downloading 43 of 80\n",
      "Downloading 44 of 80\n",
      "Downloading 45 of 80\n",
      "Downloading 46 of 80\n",
      "Downloading 47 of 80\n",
      "Downloading 48 of 80\n",
      "Downloading 49 of 80\n",
      "Downloading 50 of 80\n",
      "Downloading 51 of 80\n",
      "Downloading 52 of 80\n",
      "Downloading 53 of 80\n",
      "Downloading 54 of 80\n",
      "Downloading 55 of 80\n",
      "Downloading 56 of 80\n",
      "Downloading 57 of 80\n",
      "Downloading 58 of 80\n",
      "Downloading 59 of 80\n",
      "Downloading 60 of 80\n",
      "Downloading 61 of 80\n",
      "Downloading 62 of 80\n",
      "Downloading 63 of 80\n",
      "Downloading 64 of 80\n",
      "Downloading 65 of 80\n",
      "Downloading 66 of 80\n",
      "Downloading 67 of 80\n",
      "Downloading 68 of 80\n",
      "Downloading 69 of 80\n",
      "Downloading 70 of 80\n",
      "Downloading 71 of 80\n",
      "Downloading 72 of 80\n",
      "Downloading 73 of 80\n",
      "Downloading 74 of 80\n",
      "Downloading 75 of 80\n",
      "Downloading 76 of 80\n",
      "Downloading 77 of 80\n",
      "Downloading 78 of 80\n",
      "Downloading 79 of 80\n",
      "Downloading 80 of 80\n"
     ]
    }
   ],
   "source": [
    "for index,link in enumerate(urls):\n",
    "    if index<20:\n",
    "        print(\"Downloading {0} of {1}\".format(index+41,len(urls)+40))\n",
    "        response=requests.get(link)\n",
    "        with open('Project1/training/Jeans/Jeans.{0}.jpeg'.format(index+41),\"wb\") as file:\n",
    "            file.write(response.content)\n",
    "    else:\n",
    "        print(\"Downloading {0} of {1}\".format(index+41,len(urls)+40))\n",
    "        response=requests.get(link)\n",
    "        with open('Project1/validation/Jeans/Jeans.{0}.jpeg'.format(index+41),\"wb\") as file:\n",
    "            file.write(response.content)"
   ]
  },
  {
   "cell_type": "code",
   "execution_count": 47,
   "metadata": {},
   "outputs": [],
   "source": [
    "my_page=driver.get('https://www.flipkart.com/search?q=jeans&otracker=search&otracker1=search&marketplace=FLIPKART&as-show=on&as=off&page=3')"
   ]
  },
  {
   "cell_type": "code",
   "execution_count": 48,
   "metadata": {},
   "outputs": [],
   "source": [
    "make_directory('Project1/test/Jeans')"
   ]
  },
  {
   "cell_type": "code",
   "execution_count": 49,
   "metadata": {},
   "outputs": [
    {
     "name": "stdout",
     "output_type": "stream",
     "text": [
      "<selenium.webdriver.remote.webelement.WebElement (session=\"caf9bbfbedd2610eb42a0fd8ee079b14\", element=\"1b24db88-13a9-492c-8109-0945c2433610\")>\n"
     ]
    }
   ],
   "source": [
    "images=driver.find_elements_by_xpath(\"//img[@class='_3togXc']\")\n",
    "print(images[0])"
   ]
  },
  {
   "cell_type": "code",
   "execution_count": 50,
   "metadata": {},
   "outputs": [],
   "source": [
    "urls=[]\n",
    "i=0\n",
    "for image in images:\n",
    "    if i<20:\n",
    "        source=image.get_attribute('src')\n",
    "        urls.append(source)\n",
    "        i=i+1\n",
    "    else:\n",
    "        break\n"
   ]
  },
  {
   "cell_type": "code",
   "execution_count": 51,
   "metadata": {},
   "outputs": [
    {
     "name": "stdout",
     "output_type": "stream",
     "text": [
      "Downloading 1 of 20\n",
      "Downloading 2 of 20\n",
      "Downloading 3 of 20\n",
      "Downloading 4 of 20\n",
      "Downloading 5 of 20\n",
      "Downloading 6 of 20\n",
      "Downloading 7 of 20\n",
      "Downloading 8 of 20\n",
      "Downloading 9 of 20\n",
      "Downloading 10 of 20\n",
      "Downloading 11 of 20\n",
      "Downloading 12 of 20\n",
      "Downloading 13 of 20\n",
      "Downloading 14 of 20\n",
      "Downloading 15 of 20\n",
      "Downloading 16 of 20\n",
      "Downloading 17 of 20\n",
      "Downloading 18 of 20\n",
      "Downloading 19 of 20\n",
      "Downloading 20 of 20\n"
     ]
    }
   ],
   "source": [
    "for index,link in enumerate(urls):\n",
    "    print(\"Downloading {0} of {1}\".format(index+1,len(urls)))\n",
    "    response=requests.get(link)\n",
    "    with open('Project1/test/Jeans/Jeans.{0}.jpeg'.format(index+1),\"wb\") as file:\n",
    "        file.write(response.content)"
   ]
  },
  {
   "cell_type": "code",
   "execution_count": null,
   "metadata": {},
   "outputs": [],
   "source": []
  }
 ],
 "metadata": {
  "kernelspec": {
   "display_name": "Python 3",
   "language": "python",
   "name": "python3"
  },
  "language_info": {
   "codemirror_mode": {
    "name": "ipython",
    "version": 3
   },
   "file_extension": ".py",
   "mimetype": "text/x-python",
   "name": "python",
   "nbconvert_exporter": "python",
   "pygments_lexer": "ipython3",
   "version": "3.7.4"
  }
 },
 "nbformat": 4,
 "nbformat_minor": 2
}
